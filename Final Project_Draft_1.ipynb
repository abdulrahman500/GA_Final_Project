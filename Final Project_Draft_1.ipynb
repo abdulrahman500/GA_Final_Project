{
 "cells": [
  {
   "cell_type": "markdown",
   "metadata": {},
   "source": [
    "# EDA"
   ]
  },
  {
   "cell_type": "code",
   "execution_count": 376,
   "metadata": {},
   "outputs": [],
   "source": [
    "import pandas as pd\n",
    "import matplotlib.pyplot as plt\n",
    "import numpy as np"
   ]
  },
  {
   "cell_type": "code",
   "execution_count": 5,
   "metadata": {},
   "outputs": [],
   "source": [
    "music = pd.read_csv('/Users/amf/Documents/music/music_data.csv')\n",
    "music4 = pd.read_csv('/Users/amf/Documents/music/music_data.csv')"
   ]
  },
  {
   "cell_type": "code",
   "execution_count": 6,
   "metadata": {},
   "outputs": [
    {
     "data": {
      "text/plain": [
       "(22680, 8)"
      ]
     },
     "execution_count": 6,
     "metadata": {},
     "output_type": "execute_result"
    }
   ],
   "source": [
    "music.shape"
   ]
  },
  {
   "cell_type": "code",
   "execution_count": 7,
   "metadata": {},
   "outputs": [
    {
     "data": {
      "text/plain": [
       "reviewid      int64\n",
       "label        object\n",
       "artist       object\n",
       "title        object\n",
       "genre        object\n",
       "score       float64\n",
       "pub_year      int64\n",
       "year          int64\n",
       "dtype: object"
      ]
     },
     "execution_count": 7,
     "metadata": {},
     "output_type": "execute_result"
    }
   ],
   "source": [
    "music.dtypes"
   ]
  },
  {
   "cell_type": "code",
   "execution_count": 8,
   "metadata": {},
   "outputs": [
    {
     "data": {
      "text/plain": [
       "rock            10571\n",
       "electronic       4210\n",
       "experimental     2010\n",
       "rap              1834\n",
       "pop/r&b          1628\n",
       "metal             944\n",
       "folk/country      749\n",
       "jazz              471\n",
       "global            263\n",
       "Name: genre, dtype: int64"
      ]
     },
     "execution_count": 8,
     "metadata": {},
     "output_type": "execute_result"
    }
   ],
   "source": [
    "music4.genre.value_counts()"
   ]
  },
  {
   "cell_type": "code",
   "execution_count": 9,
   "metadata": {},
   "outputs": [
    {
     "data": {
      "text/plain": [
       "xiu xiu                       40\n",
       "saint etienne                 40\n",
       "xasthur                       38\n",
       "animal collective             36\n",
       "the beatles                   35\n",
       "deerhoof                      34\n",
       "m83                           30\n",
       "excepter                      30\n",
       "stereolab                     30\n",
       "clinic                        30\n",
       "prince                        30\n",
       "guided by voices              29\n",
       "david bowie                   29\n",
       "bjrk                          28\n",
       "liars                         26\n",
       "lcd soundsystem               26\n",
       "50 cent                       26\n",
       "r.e.m.                        25\n",
       "mogwai                        24\n",
       "why?                          24\n",
       "richard youngs                24\n",
       "growing                       24\n",
       "beastie boys                  24\n",
       "nadja                         24\n",
       "sunn o)))                     24\n",
       "the apples in stereo          24\n",
       "david sylvian                 24\n",
       "of montreal                   23\n",
       "the fall                      23\n",
       "the knife                     22\n",
       "                              ..\n",
       "jetone                         1\n",
       "rose mcdowall                  1\n",
       "dj nate                        1\n",
       "robert lippok                  1\n",
       "digable planets                1\n",
       "horrendous                     1\n",
       "lacrosse                       1\n",
       "orange alabaster mushroom      1\n",
       "labtekwon                      1\n",
       "saboten                        1\n",
       "r. andrew lee                  1\n",
       "water borders                  1\n",
       "jodeci                         1\n",
       "terakaft                       1\n",
       "michael chapman                1\n",
       "subarachnoid space             1\n",
       "mario diaz de leon             1\n",
       "low jack                       1\n",
       "lucius                         1\n",
       "jack hayter                    1\n",
       "jan jelinek, computer soup     1\n",
       "stark reality                  1\n",
       "terminal 4                     1\n",
       "versus                         1\n",
       "vanishing kids                 1\n",
       "wasteland                      1\n",
       "the sun                        1\n",
       "fourth of july                 1\n",
       "lucy dacus                     1\n",
       "pinegrove                      1\n",
       "Name: artist, Length: 7237, dtype: int64"
      ]
     },
     "execution_count": 9,
     "metadata": {},
     "output_type": "execute_result"
    }
   ],
   "source": [
    "music4.artist.value_counts()"
   ]
  },
  {
   "cell_type": "code",
   "execution_count": 10,
   "metadata": {},
   "outputs": [
    {
     "data": {
      "text/plain": [
       "reviewid     0\n",
       "label       12\n",
       "artist       0\n",
       "title        3\n",
       "genre        0\n",
       "score        0\n",
       "pub_year     0\n",
       "year         0\n",
       "dtype: int64"
      ]
     },
     "execution_count": 10,
     "metadata": {},
     "output_type": "execute_result"
    }
   ],
   "source": [
    "music4.isnull().sum()"
   ]
  },
  {
   "cell_type": "code",
   "execution_count": 11,
   "metadata": {},
   "outputs": [
    {
     "data": {
      "image/png": "[encoded data removed]",
      "text/plain": [
       "<Figure size 432x288 with 1 Axes>"
      ]
     },
     "metadata": {},
     "output_type": "display_data"
    }
   ],
   "source": [
    "music4.genre.value_counts().plot.barh();"
   ]
  },
  {
   "cell_type": "code",
   "execution_count": 12,
   "metadata": {},
   "outputs": [
    {
     "data": {
      "image/png": "[encoded data removed]",
      "text/plain": [
       "<Figure size 432x288 with 1 Axes>"
      ]
     },
     "metadata": {},
     "output_type": "display_data"
    }
   ],
   "source": [
    "music4.groupby('genre').score.mean().plot.barh();"
   ]
  },
  {
   "cell_type": "code",
   "execution_count": 13,
   "metadata": {},
   "outputs": [
    {
     "data": {
      "image/png": "[encoded data removed]",
      "text/plain": [
       "<Figure size 648x720 with 1 Axes>"
      ]
     },
     "metadata": {},
     "output_type": "display_data"
    }
   ],
   "source": [
    "music4.groupby('year').score.mean().plot(kind='barh',figsize=(9,10));"
   ]
  },
  {
   "cell_type": "code",
   "execution_count": 14,
   "metadata": {},
   "outputs": [
    {
     "data": {
      "image/png": "[encoded data removed]",
      "text/plain": [
       "<Figure size 1080x504 with 1 Axes>"
      ]
     },
     "metadata": {},
     "output_type": "display_data"
    }
   ],
   "source": [
    "music4.groupby('year').score.mean().plot(kind='line',figsize=(15,7),title='The Album Age Effect');"
   ]
  },
  {
   "cell_type": "code",
   "execution_count": 15,
   "metadata": {},
   "outputs": [
    {
     "data": {
      "image/png": "[encoded data removed]",
      "text/plain": [
       "<Figure size 432x360 with 1 Axes>"
      ]
     },
     "metadata": {},
     "output_type": "display_data"
    },
    {
     "data": {
      "image/png": "[encoded data removed]",
      "text/plain": [
       "<Figure size 432x360 with 1 Axes>"
      ]
     },
     "metadata": {},
     "output_type": "display_data"
    },
    {
     "data": {
      "image/png": "[encoded data removed]",
      "text/plain": [
       "<Figure size 432x360 with 1 Axes>"
      ]
     },
     "metadata": {},
     "output_type": "display_data"
    }
   ],
   "source": [
    "music4[music4.genre=='pop/r&b'].groupby('pub_year').score.mean().plot(kind='line',figsize=(6,5),title='Pop/R&B')\n",
    "plt.show()\n",
    "music4[music4.genre=='electronic'].groupby('pub_year').score.mean().plot(kind='line',figsize=(6,5),title='Electronic')\n",
    "plt.show()\n",
    "music4[music4.genre=='folk/country'].groupby('pub_year').score.mean().plot(kind='line',figsize=(6,5),title='Folk/Country')\n",
    "plt.show()"
   ]
  },
  {
   "cell_type": "code",
   "execution_count": 16,
   "metadata": {},
   "outputs": [
    {
     "data": {
      "text/html": [
       "<div>\n",
       "<style scoped>\n",
       "    .dataframe tbody tr th:only-of-type {\n",
       "        vertical-align: middle;\n",
       "    }\n",
       "\n",
       "    .dataframe tbody tr th {\n",
       "        vertical-align: top;\n",
       "    }\n",
       "\n",
       "    .dataframe thead th {\n",
       "        text-align: right;\n",
       "    }\n",
       "</style>\n",
       "<table border=\"1\" class=\"dataframe\">\n",
       "  <thead>\n",
       "    <tr style=\"text-align: right;\">\n",
       "      <th></th>\n",
       "      <th>reviewid</th>\n",
       "      <th>label</th>\n",
       "      <th>artist</th>\n",
       "      <th>title</th>\n",
       "      <th>genre</th>\n",
       "      <th>score</th>\n",
       "      <th>pub_year</th>\n",
       "      <th>year</th>\n",
       "    </tr>\n",
       "  </thead>\n",
       "  <tbody>\n",
       "    <tr>\n",
       "      <th>0</th>\n",
       "      <td>21182</td>\n",
       "      <td>warp</td>\n",
       "      <td>!!!</td>\n",
       "      <td>as if</td>\n",
       "      <td>rock</td>\n",
       "      <td>6.9</td>\n",
       "      <td>2015</td>\n",
       "      <td>2015</td>\n",
       "    </tr>\n",
       "    <tr>\n",
       "      <th>1</th>\n",
       "      <td>17954</td>\n",
       "      <td>warp</td>\n",
       "      <td>!!!</td>\n",
       "      <td>thr!!!er</td>\n",
       "      <td>rock</td>\n",
       "      <td>6.0</td>\n",
       "      <td>2013</td>\n",
       "      <td>2013</td>\n",
       "    </tr>\n",
       "    <tr>\n",
       "      <th>2</th>\n",
       "      <td>14811</td>\n",
       "      <td>warp</td>\n",
       "      <td>!!!</td>\n",
       "      <td>jamie, my intentions are bass ep</td>\n",
       "      <td>rock</td>\n",
       "      <td>6.8</td>\n",
       "      <td>2010</td>\n",
       "      <td>2010</td>\n",
       "    </tr>\n",
       "    <tr>\n",
       "      <th>3</th>\n",
       "      <td>14570</td>\n",
       "      <td>warp</td>\n",
       "      <td>!!!</td>\n",
       "      <td>strange weather, isn't it?</td>\n",
       "      <td>rock</td>\n",
       "      <td>6.9</td>\n",
       "      <td>2010</td>\n",
       "      <td>2010</td>\n",
       "    </tr>\n",
       "    <tr>\n",
       "      <th>4</th>\n",
       "      <td>9956</td>\n",
       "      <td>warp</td>\n",
       "      <td>!!!</td>\n",
       "      <td>myth takes</td>\n",
       "      <td>rock</td>\n",
       "      <td>8.0</td>\n",
       "      <td>2007</td>\n",
       "      <td>2007</td>\n",
       "    </tr>\n",
       "  </tbody>\n",
       "</table>\n",
       "</div>"
      ],
      "text/plain": [
       "   reviewid label artist                             title genre  score  \\\n",
       "0     21182  warp    !!!                             as if  rock    6.9   \n",
       "1     17954  warp    !!!                          thr!!!er  rock    6.0   \n",
       "2     14811  warp    !!!  jamie, my intentions are bass ep  rock    6.8   \n",
       "3     14570  warp    !!!        strange weather, isn't it?  rock    6.9   \n",
       "4      9956  warp    !!!                        myth takes  rock    8.0   \n",
       "\n",
       "   pub_year  year  \n",
       "0      2015  2015  \n",
       "1      2013  2013  \n",
       "2      2010  2010  \n",
       "3      2010  2010  \n",
       "4      2007  2007  "
      ]
     },
     "execution_count": 16,
     "metadata": {},
     "output_type": "execute_result"
    }
   ],
   "source": [
    "music.head()"
   ]
  },
  {
   "cell_type": "markdown",
   "metadata": {},
   "source": [
    "# Preparing the Dataset for modeling"
   ]
  },
  {
   "cell_type": "code",
   "execution_count": 17,
   "metadata": {},
   "outputs": [],
   "source": [
    "genres = pd.get_dummies(music.genre, drop_first=False)"
   ]
  },
  {
   "cell_type": "code",
   "execution_count": 18,
   "metadata": {},
   "outputs": [
    {
     "data": {
      "text/html": [
       "<div>\n",
       "<style scoped>\n",
       "    .dataframe tbody tr th:only-of-type {\n",
       "        vertical-align: middle;\n",
       "    }\n",
       "\n",
       "    .dataframe tbody tr th {\n",
       "        vertical-align: top;\n",
       "    }\n",
       "\n",
       "    .dataframe thead th {\n",
       "        text-align: right;\n",
       "    }\n",
       "</style>\n",
       "<table border=\"1\" class=\"dataframe\">\n",
       "  <thead>\n",
       "    <tr style=\"text-align: right;\">\n",
       "      <th></th>\n",
       "      <th>electronic</th>\n",
       "      <th>experimental</th>\n",
       "      <th>folk/country</th>\n",
       "      <th>global</th>\n",
       "      <th>jazz</th>\n",
       "      <th>metal</th>\n",
       "      <th>pop/r&amp;b</th>\n",
       "      <th>rap</th>\n",
       "      <th>rock</th>\n",
       "    </tr>\n",
       "  </thead>\n",
       "  <tbody>\n",
       "    <tr>\n",
       "      <th>0</th>\n",
       "      <td>0</td>\n",
       "      <td>0</td>\n",
       "      <td>0</td>\n",
       "      <td>0</td>\n",
       "      <td>0</td>\n",
       "      <td>0</td>\n",
       "      <td>0</td>\n",
       "      <td>0</td>\n",
       "      <td>1</td>\n",
       "    </tr>\n",
       "    <tr>\n",
       "      <th>1</th>\n",
       "      <td>0</td>\n",
       "      <td>0</td>\n",
       "      <td>0</td>\n",
       "      <td>0</td>\n",
       "      <td>0</td>\n",
       "      <td>0</td>\n",
       "      <td>0</td>\n",
       "      <td>0</td>\n",
       "      <td>1</td>\n",
       "    </tr>\n",
       "    <tr>\n",
       "      <th>2</th>\n",
       "      <td>0</td>\n",
       "      <td>0</td>\n",
       "      <td>0</td>\n",
       "      <td>0</td>\n",
       "      <td>0</td>\n",
       "      <td>0</td>\n",
       "      <td>0</td>\n",
       "      <td>0</td>\n",
       "      <td>1</td>\n",
       "    </tr>\n",
       "    <tr>\n",
       "      <th>3</th>\n",
       "      <td>0</td>\n",
       "      <td>0</td>\n",
       "      <td>0</td>\n",
       "      <td>0</td>\n",
       "      <td>0</td>\n",
       "      <td>0</td>\n",
       "      <td>0</td>\n",
       "      <td>0</td>\n",
       "      <td>1</td>\n",
       "    </tr>\n",
       "    <tr>\n",
       "      <th>4</th>\n",
       "      <td>0</td>\n",
       "      <td>0</td>\n",
       "      <td>0</td>\n",
       "      <td>0</td>\n",
       "      <td>0</td>\n",
       "      <td>0</td>\n",
       "      <td>0</td>\n",
       "      <td>0</td>\n",
       "      <td>1</td>\n",
       "    </tr>\n",
       "  </tbody>\n",
       "</table>\n",
       "</div>"
      ],
      "text/plain": [
       "   electronic  experimental  folk/country  global  jazz  metal  pop/r&b  rap  \\\n",
       "0           0             0             0       0     0      0        0    0   \n",
       "1           0             0             0       0     0      0        0    0   \n",
       "2           0             0             0       0     0      0        0    0   \n",
       "3           0             0             0       0     0      0        0    0   \n",
       "4           0             0             0       0     0      0        0    0   \n",
       "\n",
       "   rock  \n",
       "0     1  \n",
       "1     1  \n",
       "2     1  \n",
       "3     1  \n",
       "4     1  "
      ]
     },
     "execution_count": 18,
     "metadata": {},
     "output_type": "execute_result"
    }
   ],
   "source": [
    "genres.head()"
   ]
  },
  {
   "cell_type": "code",
   "execution_count": 19,
   "metadata": {},
   "outputs": [],
   "source": [
    "music = pd.concat([music, genres], axis=1)"
   ]
  },
  {
   "cell_type": "code",
   "execution_count": 20,
   "metadata": {},
   "outputs": [
    {
     "data": {
      "text/html": [
       "<div>\n",
       "<style scoped>\n",
       "    .dataframe tbody tr th:only-of-type {\n",
       "        vertical-align: middle;\n",
       "    }\n",
       "\n",
       "    .dataframe tbody tr th {\n",
       "        vertical-align: top;\n",
       "    }\n",
       "\n",
       "    .dataframe thead th {\n",
       "        text-align: right;\n",
       "    }\n",
       "</style>\n",
       "<table border=\"1\" class=\"dataframe\">\n",
       "  <thead>\n",
       "    <tr style=\"text-align: right;\">\n",
       "      <th></th>\n",
       "      <th>reviewid</th>\n",
       "      <th>label</th>\n",
       "      <th>artist</th>\n",
       "      <th>title</th>\n",
       "      <th>genre</th>\n",
       "      <th>score</th>\n",
       "      <th>pub_year</th>\n",
       "      <th>year</th>\n",
       "      <th>electronic</th>\n",
       "      <th>experimental</th>\n",
       "      <th>folk/country</th>\n",
       "      <th>global</th>\n",
       "      <th>jazz</th>\n",
       "      <th>metal</th>\n",
       "      <th>pop/r&amp;b</th>\n",
       "      <th>rap</th>\n",
       "      <th>rock</th>\n",
       "    </tr>\n",
       "  </thead>\n",
       "  <tbody>\n",
       "    <tr>\n",
       "      <th>0</th>\n",
       "      <td>21182</td>\n",
       "      <td>warp</td>\n",
       "      <td>!!!</td>\n",
       "      <td>as if</td>\n",
       "      <td>rock</td>\n",
       "      <td>6.9</td>\n",
       "      <td>2015</td>\n",
       "      <td>2015</td>\n",
       "      <td>0</td>\n",
       "      <td>0</td>\n",
       "      <td>0</td>\n",
       "      <td>0</td>\n",
       "      <td>0</td>\n",
       "      <td>0</td>\n",
       "      <td>0</td>\n",
       "      <td>0</td>\n",
       "      <td>1</td>\n",
       "    </tr>\n",
       "    <tr>\n",
       "      <th>1</th>\n",
       "      <td>17954</td>\n",
       "      <td>warp</td>\n",
       "      <td>!!!</td>\n",
       "      <td>thr!!!er</td>\n",
       "      <td>rock</td>\n",
       "      <td>6.0</td>\n",
       "      <td>2013</td>\n",
       "      <td>2013</td>\n",
       "      <td>0</td>\n",
       "      <td>0</td>\n",
       "      <td>0</td>\n",
       "      <td>0</td>\n",
       "      <td>0</td>\n",
       "      <td>0</td>\n",
       "      <td>0</td>\n",
       "      <td>0</td>\n",
       "      <td>1</td>\n",
       "    </tr>\n",
       "    <tr>\n",
       "      <th>2</th>\n",
       "      <td>14811</td>\n",
       "      <td>warp</td>\n",
       "      <td>!!!</td>\n",
       "      <td>jamie, my intentions are bass ep</td>\n",
       "      <td>rock</td>\n",
       "      <td>6.8</td>\n",
       "      <td>2010</td>\n",
       "      <td>2010</td>\n",
       "      <td>0</td>\n",
       "      <td>0</td>\n",
       "      <td>0</td>\n",
       "      <td>0</td>\n",
       "      <td>0</td>\n",
       "      <td>0</td>\n",
       "      <td>0</td>\n",
       "      <td>0</td>\n",
       "      <td>1</td>\n",
       "    </tr>\n",
       "    <tr>\n",
       "      <th>3</th>\n",
       "      <td>14570</td>\n",
       "      <td>warp</td>\n",
       "      <td>!!!</td>\n",
       "      <td>strange weather, isn't it?</td>\n",
       "      <td>rock</td>\n",
       "      <td>6.9</td>\n",
       "      <td>2010</td>\n",
       "      <td>2010</td>\n",
       "      <td>0</td>\n",
       "      <td>0</td>\n",
       "      <td>0</td>\n",
       "      <td>0</td>\n",
       "      <td>0</td>\n",
       "      <td>0</td>\n",
       "      <td>0</td>\n",
       "      <td>0</td>\n",
       "      <td>1</td>\n",
       "    </tr>\n",
       "    <tr>\n",
       "      <th>4</th>\n",
       "      <td>9956</td>\n",
       "      <td>warp</td>\n",
       "      <td>!!!</td>\n",
       "      <td>myth takes</td>\n",
       "      <td>rock</td>\n",
       "      <td>8.0</td>\n",
       "      <td>2007</td>\n",
       "      <td>2007</td>\n",
       "      <td>0</td>\n",
       "      <td>0</td>\n",
       "      <td>0</td>\n",
       "      <td>0</td>\n",
       "      <td>0</td>\n",
       "      <td>0</td>\n",
       "      <td>0</td>\n",
       "      <td>0</td>\n",
       "      <td>1</td>\n",
       "    </tr>\n",
       "  </tbody>\n",
       "</table>\n",
       "</div>"
      ],
      "text/plain": [
       "   reviewid label artist                             title genre  score  \\\n",
       "0     21182  warp    !!!                             as if  rock    6.9   \n",
       "1     17954  warp    !!!                          thr!!!er  rock    6.0   \n",
       "2     14811  warp    !!!  jamie, my intentions are bass ep  rock    6.8   \n",
       "3     14570  warp    !!!        strange weather, isn't it?  rock    6.9   \n",
       "4      9956  warp    !!!                        myth takes  rock    8.0   \n",
       "\n",
       "   pub_year  year  electronic  experimental  folk/country  global  jazz  \\\n",
       "0      2015  2015           0             0             0       0     0   \n",
       "1      2013  2013           0             0             0       0     0   \n",
       "2      2010  2010           0             0             0       0     0   \n",
       "3      2010  2010           0             0             0       0     0   \n",
       "4      2007  2007           0             0             0       0     0   \n",
       "\n",
       "   metal  pop/r&b  rap  rock  \n",
       "0      0        0    0     1  \n",
       "1      0        0    0     1  \n",
       "2      0        0    0     1  \n",
       "3      0        0    0     1  \n",
       "4      0        0    0     1  "
      ]
     },
     "execution_count": 20,
     "metadata": {},
     "output_type": "execute_result"
    }
   ],
   "source": [
    "music.head()"
   ]
  },
  {
   "cell_type": "code",
   "execution_count": 21,
   "metadata": {},
   "outputs": [],
   "source": [
    "music.drop(['title', 'genre'], axis=1, inplace=True)"
   ]
  },
  {
   "cell_type": "code",
   "execution_count": 22,
   "metadata": {},
   "outputs": [
    {
     "data": {
      "text/html": [
       "<div>\n",
       "<style scoped>\n",
       "    .dataframe tbody tr th:only-of-type {\n",
       "        vertical-align: middle;\n",
       "    }\n",
       "\n",
       "    .dataframe tbody tr th {\n",
       "        vertical-align: top;\n",
       "    }\n",
       "\n",
       "    .dataframe thead th {\n",
       "        text-align: right;\n",
       "    }\n",
       "</style>\n",
       "<table border=\"1\" class=\"dataframe\">\n",
       "  <thead>\n",
       "    <tr style=\"text-align: right;\">\n",
       "      <th></th>\n",
       "      <th>reviewid</th>\n",
       "      <th>label</th>\n",
       "      <th>artist</th>\n",
       "      <th>score</th>\n",
       "      <th>pub_year</th>\n",
       "      <th>year</th>\n",
       "      <th>electronic</th>\n",
       "      <th>experimental</th>\n",
       "      <th>folk/country</th>\n",
       "      <th>global</th>\n",
       "      <th>jazz</th>\n",
       "      <th>metal</th>\n",
       "      <th>pop/r&amp;b</th>\n",
       "      <th>rap</th>\n",
       "      <th>rock</th>\n",
       "    </tr>\n",
       "  </thead>\n",
       "  <tbody>\n",
       "    <tr>\n",
       "      <th>0</th>\n",
       "      <td>21182</td>\n",
       "      <td>warp</td>\n",
       "      <td>!!!</td>\n",
       "      <td>7.0</td>\n",
       "      <td>2015</td>\n",
       "      <td>2015</td>\n",
       "      <td>0</td>\n",
       "      <td>0</td>\n",
       "      <td>0</td>\n",
       "      <td>0</td>\n",
       "      <td>0</td>\n",
       "      <td>0</td>\n",
       "      <td>0</td>\n",
       "      <td>0</td>\n",
       "      <td>1</td>\n",
       "    </tr>\n",
       "    <tr>\n",
       "      <th>1</th>\n",
       "      <td>17954</td>\n",
       "      <td>warp</td>\n",
       "      <td>!!!</td>\n",
       "      <td>6.0</td>\n",
       "      <td>2013</td>\n",
       "      <td>2013</td>\n",
       "      <td>0</td>\n",
       "      <td>0</td>\n",
       "      <td>0</td>\n",
       "      <td>0</td>\n",
       "      <td>0</td>\n",
       "      <td>0</td>\n",
       "      <td>0</td>\n",
       "      <td>0</td>\n",
       "      <td>1</td>\n",
       "    </tr>\n",
       "    <tr>\n",
       "      <th>2</th>\n",
       "      <td>14811</td>\n",
       "      <td>warp</td>\n",
       "      <td>!!!</td>\n",
       "      <td>7.0</td>\n",
       "      <td>2010</td>\n",
       "      <td>2010</td>\n",
       "      <td>0</td>\n",
       "      <td>0</td>\n",
       "      <td>0</td>\n",
       "      <td>0</td>\n",
       "      <td>0</td>\n",
       "      <td>0</td>\n",
       "      <td>0</td>\n",
       "      <td>0</td>\n",
       "      <td>1</td>\n",
       "    </tr>\n",
       "    <tr>\n",
       "      <th>3</th>\n",
       "      <td>14570</td>\n",
       "      <td>warp</td>\n",
       "      <td>!!!</td>\n",
       "      <td>7.0</td>\n",
       "      <td>2010</td>\n",
       "      <td>2010</td>\n",
       "      <td>0</td>\n",
       "      <td>0</td>\n",
       "      <td>0</td>\n",
       "      <td>0</td>\n",
       "      <td>0</td>\n",
       "      <td>0</td>\n",
       "      <td>0</td>\n",
       "      <td>0</td>\n",
       "      <td>1</td>\n",
       "    </tr>\n",
       "    <tr>\n",
       "      <th>4</th>\n",
       "      <td>9956</td>\n",
       "      <td>warp</td>\n",
       "      <td>!!!</td>\n",
       "      <td>8.0</td>\n",
       "      <td>2007</td>\n",
       "      <td>2007</td>\n",
       "      <td>0</td>\n",
       "      <td>0</td>\n",
       "      <td>0</td>\n",
       "      <td>0</td>\n",
       "      <td>0</td>\n",
       "      <td>0</td>\n",
       "      <td>0</td>\n",
       "      <td>0</td>\n",
       "      <td>1</td>\n",
       "    </tr>\n",
       "  </tbody>\n",
       "</table>\n",
       "</div>"
      ],
      "text/plain": [
       "   reviewid label artist  score  pub_year  year  electronic  experimental  \\\n",
       "0     21182  warp    !!!    7.0      2015  2015           0             0   \n",
       "1     17954  warp    !!!    6.0      2013  2013           0             0   \n",
       "2     14811  warp    !!!    7.0      2010  2010           0             0   \n",
       "3     14570  warp    !!!    7.0      2010  2010           0             0   \n",
       "4      9956  warp    !!!    8.0      2007  2007           0             0   \n",
       "\n",
       "   folk/country  global  jazz  metal  pop/r&b  rap  rock  \n",
       "0             0       0     0      0        0    0     1  \n",
       "1             0       0     0      0        0    0     1  \n",
       "2             0       0     0      0        0    0     1  \n",
       "3             0       0     0      0        0    0     1  \n",
       "4             0       0     0      0        0    0     1  "
      ]
     },
     "execution_count": 22,
     "metadata": {},
     "output_type": "execute_result"
    }
   ],
   "source": [
    "music['score'] = round(music.score)\n",
    "music.head()"
   ]
  },
  {
   "cell_type": "code",
   "execution_count": 23,
   "metadata": {},
   "outputs": [
    {
     "data": {
      "text/plain": [
       "label    12\n",
       "dtype: int64"
      ]
     },
     "execution_count": 23,
     "metadata": {},
     "output_type": "execute_result"
    }
   ],
   "source": [
    "music.isnull().sum()[music.isnull().sum() !=0]"
   ]
  },
  {
   "cell_type": "code",
   "execution_count": 24,
   "metadata": {},
   "outputs": [
    {
     "data": {
      "text/plain": [
       "self-released               437\n",
       "sub pop                     312\n",
       "domino                      283\n",
       "thrill jockey               262\n",
       "merge                       260\n",
       "drag city                   246\n",
       "mute                        236\n",
       "columbia                    230\n",
       "warp                        226\n",
       "matador                     209\n",
       "warner bros.                183\n",
       "astralwerks                 173\n",
       "jagjaguwar                  169\n",
       "interscope                  167\n",
       "kranky                      157\n",
       "virgin                      157\n",
       "capitol                     153\n",
       "atlantic                    144\n",
       "rough trade                 138\n",
       "secretly canadian           133\n",
       "polyvinyl                   130\n",
       "4ad                         128\n",
       "xl                          127\n",
       "emi                         127\n",
       "kill rock stars             124\n",
       "universal                   123\n",
       "def jam                     119\n",
       "ninja tune                  111\n",
       "anti-                       110\n",
       "hydra head                  110\n",
       "                           ... \n",
       "fdh                           1\n",
       "dream drive                   1\n",
       "apestaartje                   1\n",
       "flau                          1\n",
       "mmi / crystal math music      1\n",
       "animal disguise               1\n",
       "reclamation                   1\n",
       "halocline trance              1\n",
       "homesleep                     1\n",
       "scratch                       1\n",
       "rocket science                1\n",
       "dimension point               1\n",
       "deranged                      1\n",
       "fall records                  1\n",
       "urinal cake                   1\n",
       "b a songs                     1\n",
       "cornerstone                   1\n",
       "childstar                     1\n",
       "studio                        1\n",
       "law and auder                 1\n",
       "record kicks                  1\n",
       "vogue college                 1\n",
       "indikator                     1\n",
       "byelobog                      1\n",
       "broken horse                  1\n",
       "basedworld                    1\n",
       "el camino                     1\n",
       "tuff gong                     1\n",
       "glacial movements             1\n",
       "calla lily company            1\n",
       "Name: label, Length: 3197, dtype: int64"
      ]
     },
     "execution_count": 24,
     "metadata": {},
     "output_type": "execute_result"
    }
   ],
   "source": [
    "music.label.value_counts()"
   ]
  },
  {
   "cell_type": "code",
   "execution_count": 25,
   "metadata": {},
   "outputs": [
    {
     "data": {
      "text/plain": [
       "self-released                     437\n",
       "sub pop                           312\n",
       "domino                            283\n",
       "thrill jockey                     262\n",
       "merge                             260\n",
       "drag city                         246\n",
       "mute                              236\n",
       "columbia                          230\n",
       "warp                              226\n",
       "matador                           209\n",
       "warner bros.                      183\n",
       "astralwerks                       173\n",
       "jagjaguwar                        169\n",
       "interscope                        167\n",
       "kranky                            157\n",
       "virgin                            157\n",
       "capitol                           153\n",
       "atlantic                          144\n",
       "rough trade                       138\n",
       "secretly canadian                 133\n",
       "polyvinyl                         130\n",
       "4ad                               128\n",
       "emi                               127\n",
       "xl                                127\n",
       "kill rock stars                   124\n",
       "universal                         123\n",
       "def jam                           119\n",
       "ninja tune                        111\n",
       "hydra head                        110\n",
       "anti-                             110\n",
       "                                 ... \n",
       "koch                               23\n",
       "chemikal underground               23\n",
       "decon                              23\n",
       "emperor norton                     23\n",
       "staubgold                          23\n",
       "neurot                             23\n",
       "fiction                            23\n",
       "iamsound                           23\n",
       "mercury                            23\n",
       "paradise of bachelors              23\n",
       "strange attractors audio house     23\n",
       "ace fu                             22\n",
       "castle face                        22\n",
       "fool's gold                        22\n",
       "roc-a-fella                        22\n",
       "partisan                           22\n",
       "joyful noise                       22\n",
       "hush                               22\n",
       "lost highway                       22\n",
       "startime                           21\n",
       "roadrunner                         21\n",
       "rounder                            21\n",
       "monitor                            21\n",
       "fonal                              21\n",
       "beggars                            21\n",
       "birdman                            21\n",
       "r&s                                21\n",
       "acuarela                           21\n",
       "numero group                       21\n",
       "lefse                              21\n",
       "Name: label, Length: 207, dtype: int64"
      ]
     },
     "execution_count": 25,
     "metadata": {},
     "output_type": "execute_result"
    }
   ],
   "source": [
    "music1 = music.groupby(\"label\").filter(lambda x: len(x) > 20)\n",
    "music1.label.value_counts()"
   ]
  },
  {
   "cell_type": "code",
   "execution_count": 26,
   "metadata": {},
   "outputs": [
    {
     "data": {
      "text/plain": [
       "(13357, 15)"
      ]
     },
     "execution_count": 26,
     "metadata": {},
     "output_type": "execute_result"
    }
   ],
   "source": [
    "music1.shape"
   ]
  },
  {
   "cell_type": "code",
   "execution_count": 27,
   "metadata": {},
   "outputs": [
    {
     "data": {
      "text/plain": [
       "7.039109347442681"
      ]
     },
     "execution_count": 27,
     "metadata": {},
     "output_type": "execute_result"
    }
   ],
   "source": [
    "music.score.mean()"
   ]
  },
  {
   "cell_type": "code",
   "execution_count": 28,
   "metadata": {},
   "outputs": [],
   "source": [
    "music1 = music1.groupby('reviewid').apply(max)"
   ]
  },
  {
   "cell_type": "code",
   "execution_count": 29,
   "metadata": {},
   "outputs": [
    {
     "data": {
      "text/plain": [
       "(9739, 15)"
      ]
     },
     "execution_count": 29,
     "metadata": {},
     "output_type": "execute_result"
    }
   ],
   "source": [
    "music1.shape"
   ]
  },
  {
   "cell_type": "code",
   "execution_count": 30,
   "metadata": {},
   "outputs": [
    {
     "data": {
      "text/plain": [
       "self-released          363\n",
       "sub pop                237\n",
       "merge                  217\n",
       "drag city              208\n",
       "warp                   204\n",
       "domino                 195\n",
       "thrill jockey          184\n",
       "matador                174\n",
       "columbia               154\n",
       "warner bros.           149\n",
       "mute                   143\n",
       "jagjaguwar             135\n",
       "interscope             129\n",
       "astralwerks            118\n",
       "secretly canadian      113\n",
       "capitol                105\n",
       "virgin                 104\n",
       "kranky                 103\n",
       "4ad                    101\n",
       "polyvinyl              101\n",
       "rough trade             98\n",
       "atlantic                98\n",
       "xl                      96\n",
       "def jam                 89\n",
       "temporary residence     88\n",
       "universal               87\n",
       "kill rock stars         84\n",
       "anti-                   84\n",
       "rca                     80\n",
       "fat cat                 78\n",
       "                      ... \n",
       "kemado                  26\n",
       "definitive jux          26\n",
       "plug research           26\n",
       "mush                    26\n",
       "rune grammofon          25\n",
       "ba da bing!             25\n",
       "team love               25\n",
       "brainfeeder             25\n",
       "cooking vinyl           25\n",
       "new west                25\n",
       "lex                     24\n",
       "planet mu               24\n",
       "young god               24\n",
       "hometapes               23\n",
       "locust                  23\n",
       "memphis industries      23\n",
       "ryko                    23\n",
       "bella union             23\n",
       "sire                    23\n",
       "caldo verde             23\n",
       "dangerbird              22\n",
       "republic                22\n",
       "modular                 22\n",
       "lost highway            22\n",
       "pias                    22\n",
       "moshi moshi             22\n",
       "one little indian       21\n",
       "jetset                  21\n",
       "tee pee                 21\n",
       "badman                  21\n",
       "Name: label, Length: 148, dtype: int64"
      ]
     },
     "execution_count": 30,
     "metadata": {},
     "output_type": "execute_result"
    }
   ],
   "source": [
    "music1 = music1.groupby(\"label\").filter(lambda x: len(x) > 20)\n",
    "music1.label.value_counts()"
   ]
  },
  {
   "cell_type": "code",
   "execution_count": 31,
   "metadata": {},
   "outputs": [
    {
     "data": {
      "text/plain": [
       "count              3961\n",
       "unique               28\n",
       "top       self-released\n",
       "freq                363\n",
       "Name: label, dtype: object"
      ]
     },
     "execution_count": 31,
     "metadata": {},
     "output_type": "execute_result"
    }
   ],
   "source": [
    "music2 = music1.groupby(\"label\").filter(lambda x: len(x) > 80)\n",
    "music2.label.describe()"
   ]
  },
  {
   "cell_type": "code",
   "execution_count": 32,
   "metadata": {},
   "outputs": [],
   "source": [
    "labels = pd.get_dummies(music2.label, drop_first=False)"
   ]
  },
  {
   "cell_type": "code",
   "execution_count": 33,
   "metadata": {},
   "outputs": [
    {
     "data": {
      "text/html": [
       "<div>\n",
       "<style scoped>\n",
       "    .dataframe tbody tr th:only-of-type {\n",
       "        vertical-align: middle;\n",
       "    }\n",
       "\n",
       "    .dataframe tbody tr th {\n",
       "        vertical-align: top;\n",
       "    }\n",
       "\n",
       "    .dataframe thead th {\n",
       "        text-align: right;\n",
       "    }\n",
       "</style>\n",
       "<table border=\"1\" class=\"dataframe\">\n",
       "  <thead>\n",
       "    <tr style=\"text-align: right;\">\n",
       "      <th></th>\n",
       "      <th>4ad</th>\n",
       "      <th>anti-</th>\n",
       "      <th>astralwerks</th>\n",
       "      <th>atlantic</th>\n",
       "      <th>capitol</th>\n",
       "      <th>columbia</th>\n",
       "      <th>def jam</th>\n",
       "      <th>domino</th>\n",
       "      <th>drag city</th>\n",
       "      <th>interscope</th>\n",
       "      <th>...</th>\n",
       "      <th>secretly canadian</th>\n",
       "      <th>self-released</th>\n",
       "      <th>sub pop</th>\n",
       "      <th>temporary residence</th>\n",
       "      <th>thrill jockey</th>\n",
       "      <th>universal</th>\n",
       "      <th>virgin</th>\n",
       "      <th>warner bros.</th>\n",
       "      <th>warp</th>\n",
       "      <th>xl</th>\n",
       "    </tr>\n",
       "    <tr>\n",
       "      <th>reviewid</th>\n",
       "      <th></th>\n",
       "      <th></th>\n",
       "      <th></th>\n",
       "      <th></th>\n",
       "      <th></th>\n",
       "      <th></th>\n",
       "      <th></th>\n",
       "      <th></th>\n",
       "      <th></th>\n",
       "      <th></th>\n",
       "      <th></th>\n",
       "      <th></th>\n",
       "      <th></th>\n",
       "      <th></th>\n",
       "      <th></th>\n",
       "      <th></th>\n",
       "      <th></th>\n",
       "      <th></th>\n",
       "      <th></th>\n",
       "      <th></th>\n",
       "      <th></th>\n",
       "    </tr>\n",
       "  </thead>\n",
       "  <tbody>\n",
       "    <tr>\n",
       "      <th>1</th>\n",
       "      <td>0</td>\n",
       "      <td>0</td>\n",
       "      <td>0</td>\n",
       "      <td>0</td>\n",
       "      <td>0</td>\n",
       "      <td>0</td>\n",
       "      <td>0</td>\n",
       "      <td>0</td>\n",
       "      <td>0</td>\n",
       "      <td>0</td>\n",
       "      <td>...</td>\n",
       "      <td>0</td>\n",
       "      <td>0</td>\n",
       "      <td>0</td>\n",
       "      <td>0</td>\n",
       "      <td>0</td>\n",
       "      <td>0</td>\n",
       "      <td>0</td>\n",
       "      <td>0</td>\n",
       "      <td>0</td>\n",
       "      <td>0</td>\n",
       "    </tr>\n",
       "    <tr>\n",
       "      <th>47</th>\n",
       "      <td>0</td>\n",
       "      <td>0</td>\n",
       "      <td>0</td>\n",
       "      <td>0</td>\n",
       "      <td>0</td>\n",
       "      <td>0</td>\n",
       "      <td>0</td>\n",
       "      <td>0</td>\n",
       "      <td>0</td>\n",
       "      <td>0</td>\n",
       "      <td>...</td>\n",
       "      <td>0</td>\n",
       "      <td>0</td>\n",
       "      <td>0</td>\n",
       "      <td>0</td>\n",
       "      <td>0</td>\n",
       "      <td>0</td>\n",
       "      <td>0</td>\n",
       "      <td>0</td>\n",
       "      <td>0</td>\n",
       "      <td>0</td>\n",
       "    </tr>\n",
       "    <tr>\n",
       "      <th>50</th>\n",
       "      <td>0</td>\n",
       "      <td>0</td>\n",
       "      <td>0</td>\n",
       "      <td>0</td>\n",
       "      <td>0</td>\n",
       "      <td>0</td>\n",
       "      <td>0</td>\n",
       "      <td>0</td>\n",
       "      <td>0</td>\n",
       "      <td>0</td>\n",
       "      <td>...</td>\n",
       "      <td>0</td>\n",
       "      <td>0</td>\n",
       "      <td>0</td>\n",
       "      <td>0</td>\n",
       "      <td>0</td>\n",
       "      <td>0</td>\n",
       "      <td>0</td>\n",
       "      <td>0</td>\n",
       "      <td>0</td>\n",
       "      <td>0</td>\n",
       "    </tr>\n",
       "    <tr>\n",
       "      <th>51</th>\n",
       "      <td>0</td>\n",
       "      <td>0</td>\n",
       "      <td>0</td>\n",
       "      <td>0</td>\n",
       "      <td>0</td>\n",
       "      <td>0</td>\n",
       "      <td>0</td>\n",
       "      <td>0</td>\n",
       "      <td>0</td>\n",
       "      <td>0</td>\n",
       "      <td>...</td>\n",
       "      <td>0</td>\n",
       "      <td>0</td>\n",
       "      <td>0</td>\n",
       "      <td>0</td>\n",
       "      <td>0</td>\n",
       "      <td>0</td>\n",
       "      <td>0</td>\n",
       "      <td>0</td>\n",
       "      <td>0</td>\n",
       "      <td>0</td>\n",
       "    </tr>\n",
       "    <tr>\n",
       "      <th>57</th>\n",
       "      <td>0</td>\n",
       "      <td>0</td>\n",
       "      <td>0</td>\n",
       "      <td>0</td>\n",
       "      <td>0</td>\n",
       "      <td>0</td>\n",
       "      <td>0</td>\n",
       "      <td>0</td>\n",
       "      <td>0</td>\n",
       "      <td>0</td>\n",
       "      <td>...</td>\n",
       "      <td>0</td>\n",
       "      <td>0</td>\n",
       "      <td>0</td>\n",
       "      <td>0</td>\n",
       "      <td>1</td>\n",
       "      <td>0</td>\n",
       "      <td>0</td>\n",
       "      <td>0</td>\n",
       "      <td>0</td>\n",
       "      <td>0</td>\n",
       "    </tr>\n",
       "  </tbody>\n",
       "</table>\n",
       "<p>5 rows × 28 columns</p>\n",
       "</div>"
      ],
      "text/plain": [
       "          4ad  anti-  astralwerks  atlantic  capitol  columbia  def jam  \\\n",
       "reviewid                                                                  \n",
       "1           0      0            0         0        0         0        0   \n",
       "47          0      0            0         0        0         0        0   \n",
       "50          0      0            0         0        0         0        0   \n",
       "51          0      0            0         0        0         0        0   \n",
       "57          0      0            0         0        0         0        0   \n",
       "\n",
       "          domino  drag city  interscope ...  secretly canadian  self-released  \\\n",
       "reviewid                                ...                                     \n",
       "1              0          0           0 ...                  0              0   \n",
       "47             0          0           0 ...                  0              0   \n",
       "50             0          0           0 ...                  0              0   \n",
       "51             0          0           0 ...                  0              0   \n",
       "57             0          0           0 ...                  0              0   \n",
       "\n",
       "          sub pop  temporary residence  thrill jockey  universal  virgin  \\\n",
       "reviewid                                                                   \n",
       "1               0                    0              0          0       0   \n",
       "47              0                    0              0          0       0   \n",
       "50              0                    0              0          0       0   \n",
       "51              0                    0              0          0       0   \n",
       "57              0                    0              1          0       0   \n",
       "\n",
       "          warner bros.  warp  xl  \n",
       "reviewid                          \n",
       "1                    0     0   0  \n",
       "47                   0     0   0  \n",
       "50                   0     0   0  \n",
       "51                   0     0   0  \n",
       "57                   0     0   0  \n",
       "\n",
       "[5 rows x 28 columns]"
      ]
     },
     "execution_count": 33,
     "metadata": {},
     "output_type": "execute_result"
    }
   ],
   "source": [
    "labels.head()"
   ]
  },
  {
   "cell_type": "code",
   "execution_count": 34,
   "metadata": {},
   "outputs": [],
   "source": [
    "music2 = pd.concat([music2, labels], axis=1)"
   ]
  },
  {
   "cell_type": "code",
   "execution_count": 35,
   "metadata": {},
   "outputs": [
    {
     "data": {
      "text/plain": [
       "Index(['reviewid', 'label', 'artist', 'score', 'pub_year', 'year',\n",
       "       'electronic', 'experimental', 'folk/country', 'global', 'jazz', 'metal',\n",
       "       'pop/r&b', 'rap', 'rock', '4ad', 'anti-', 'astralwerks', 'atlantic',\n",
       "       'capitol', 'columbia', 'def jam', 'domino', 'drag city', 'interscope',\n",
       "       'jagjaguwar', 'kill rock stars', 'kranky', 'matador', 'merge', 'mute',\n",
       "       'polyvinyl', 'rough trade', 'secretly canadian', 'self-released',\n",
       "       'sub pop', 'temporary residence', 'thrill jockey', 'universal',\n",
       "       'virgin', 'warner bros.', 'warp', 'xl'],\n",
       "      dtype='object')"
      ]
     },
     "execution_count": 35,
     "metadata": {},
     "output_type": "execute_result"
    }
   ],
   "source": [
    "music2.columns"
   ]
  },
  {
   "cell_type": "code",
   "execution_count": 36,
   "metadata": {},
   "outputs": [],
   "source": [
    "music2.drop(['reviewid', 'label','artist'], axis=1, inplace=True)"
   ]
  },
  {
   "cell_type": "code",
   "execution_count": 37,
   "metadata": {},
   "outputs": [
    {
     "data": {
      "text/html": [
       "<div>\n",
       "<style scoped>\n",
       "    .dataframe tbody tr th:only-of-type {\n",
       "        vertical-align: middle;\n",
       "    }\n",
       "\n",
       "    .dataframe tbody tr th {\n",
       "        vertical-align: top;\n",
       "    }\n",
       "\n",
       "    .dataframe thead th {\n",
       "        text-align: right;\n",
       "    }\n",
       "</style>\n",
       "<table border=\"1\" class=\"dataframe\">\n",
       "  <thead>\n",
       "    <tr style=\"text-align: right;\">\n",
       "      <th></th>\n",
       "      <th>score</th>\n",
       "      <th>pub_year</th>\n",
       "      <th>year</th>\n",
       "      <th>electronic</th>\n",
       "      <th>experimental</th>\n",
       "      <th>folk/country</th>\n",
       "      <th>global</th>\n",
       "      <th>jazz</th>\n",
       "      <th>metal</th>\n",
       "      <th>pop/r&amp;b</th>\n",
       "      <th>...</th>\n",
       "      <th>secretly canadian</th>\n",
       "      <th>self-released</th>\n",
       "      <th>sub pop</th>\n",
       "      <th>temporary residence</th>\n",
       "      <th>thrill jockey</th>\n",
       "      <th>universal</th>\n",
       "      <th>virgin</th>\n",
       "      <th>warner bros.</th>\n",
       "      <th>warp</th>\n",
       "      <th>xl</th>\n",
       "    </tr>\n",
       "    <tr>\n",
       "      <th>reviewid</th>\n",
       "      <th></th>\n",
       "      <th></th>\n",
       "      <th></th>\n",
       "      <th></th>\n",
       "      <th></th>\n",
       "      <th></th>\n",
       "      <th></th>\n",
       "      <th></th>\n",
       "      <th></th>\n",
       "      <th></th>\n",
       "      <th></th>\n",
       "      <th></th>\n",
       "      <th></th>\n",
       "      <th></th>\n",
       "      <th></th>\n",
       "      <th></th>\n",
       "      <th></th>\n",
       "      <th></th>\n",
       "      <th></th>\n",
       "      <th></th>\n",
       "      <th></th>\n",
       "    </tr>\n",
       "  </thead>\n",
       "  <tbody>\n",
       "    <tr>\n",
       "      <th>1</th>\n",
       "      <td>3.0</td>\n",
       "      <td>2004</td>\n",
       "      <td>2004</td>\n",
       "      <td>0</td>\n",
       "      <td>0</td>\n",
       "      <td>0</td>\n",
       "      <td>0</td>\n",
       "      <td>0</td>\n",
       "      <td>0</td>\n",
       "      <td>0</td>\n",
       "      <td>...</td>\n",
       "      <td>0</td>\n",
       "      <td>0</td>\n",
       "      <td>0</td>\n",
       "      <td>0</td>\n",
       "      <td>0</td>\n",
       "      <td>0</td>\n",
       "      <td>0</td>\n",
       "      <td>0</td>\n",
       "      <td>0</td>\n",
       "      <td>0</td>\n",
       "    </tr>\n",
       "    <tr>\n",
       "      <th>47</th>\n",
       "      <td>8.0</td>\n",
       "      <td>2002</td>\n",
       "      <td>2002</td>\n",
       "      <td>1</td>\n",
       "      <td>0</td>\n",
       "      <td>0</td>\n",
       "      <td>0</td>\n",
       "      <td>0</td>\n",
       "      <td>0</td>\n",
       "      <td>0</td>\n",
       "      <td>...</td>\n",
       "      <td>0</td>\n",
       "      <td>0</td>\n",
       "      <td>0</td>\n",
       "      <td>0</td>\n",
       "      <td>0</td>\n",
       "      <td>0</td>\n",
       "      <td>0</td>\n",
       "      <td>0</td>\n",
       "      <td>0</td>\n",
       "      <td>0</td>\n",
       "    </tr>\n",
       "    <tr>\n",
       "      <th>50</th>\n",
       "      <td>7.0</td>\n",
       "      <td>2002</td>\n",
       "      <td>2002</td>\n",
       "      <td>1</td>\n",
       "      <td>1</td>\n",
       "      <td>0</td>\n",
       "      <td>0</td>\n",
       "      <td>0</td>\n",
       "      <td>0</td>\n",
       "      <td>0</td>\n",
       "      <td>...</td>\n",
       "      <td>0</td>\n",
       "      <td>0</td>\n",
       "      <td>0</td>\n",
       "      <td>0</td>\n",
       "      <td>0</td>\n",
       "      <td>0</td>\n",
       "      <td>0</td>\n",
       "      <td>0</td>\n",
       "      <td>0</td>\n",
       "      <td>0</td>\n",
       "    </tr>\n",
       "    <tr>\n",
       "      <th>51</th>\n",
       "      <td>6.0</td>\n",
       "      <td>2000</td>\n",
       "      <td>2000</td>\n",
       "      <td>1</td>\n",
       "      <td>1</td>\n",
       "      <td>0</td>\n",
       "      <td>0</td>\n",
       "      <td>0</td>\n",
       "      <td>0</td>\n",
       "      <td>0</td>\n",
       "      <td>...</td>\n",
       "      <td>0</td>\n",
       "      <td>0</td>\n",
       "      <td>0</td>\n",
       "      <td>0</td>\n",
       "      <td>0</td>\n",
       "      <td>0</td>\n",
       "      <td>0</td>\n",
       "      <td>0</td>\n",
       "      <td>0</td>\n",
       "      <td>0</td>\n",
       "    </tr>\n",
       "    <tr>\n",
       "      <th>57</th>\n",
       "      <td>6.0</td>\n",
       "      <td>2005</td>\n",
       "      <td>2005</td>\n",
       "      <td>1</td>\n",
       "      <td>0</td>\n",
       "      <td>0</td>\n",
       "      <td>0</td>\n",
       "      <td>0</td>\n",
       "      <td>0</td>\n",
       "      <td>0</td>\n",
       "      <td>...</td>\n",
       "      <td>0</td>\n",
       "      <td>0</td>\n",
       "      <td>0</td>\n",
       "      <td>0</td>\n",
       "      <td>1</td>\n",
       "      <td>0</td>\n",
       "      <td>0</td>\n",
       "      <td>0</td>\n",
       "      <td>0</td>\n",
       "      <td>0</td>\n",
       "    </tr>\n",
       "  </tbody>\n",
       "</table>\n",
       "<p>5 rows × 40 columns</p>\n",
       "</div>"
      ],
      "text/plain": [
       "          score  pub_year  year  electronic  experimental  folk/country  \\\n",
       "reviewid                                                                  \n",
       "1           3.0      2004  2004           0             0             0   \n",
       "47          8.0      2002  2002           1             0             0   \n",
       "50          7.0      2002  2002           1             1             0   \n",
       "51          6.0      2000  2000           1             1             0   \n",
       "57          6.0      2005  2005           1             0             0   \n",
       "\n",
       "          global  jazz  metal  pop/r&b ...  secretly canadian  self-released  \\\n",
       "reviewid                               ...                                     \n",
       "1              0     0      0        0 ...                  0              0   \n",
       "47             0     0      0        0 ...                  0              0   \n",
       "50             0     0      0        0 ...                  0              0   \n",
       "51             0     0      0        0 ...                  0              0   \n",
       "57             0     0      0        0 ...                  0              0   \n",
       "\n",
       "          sub pop  temporary residence  thrill jockey  universal  virgin  \\\n",
       "reviewid                                                                   \n",
       "1               0                    0              0          0       0   \n",
       "47              0                    0              0          0       0   \n",
       "50              0                    0              0          0       0   \n",
       "51              0                    0              0          0       0   \n",
       "57              0                    0              1          0       0   \n",
       "\n",
       "          warner bros.  warp  xl  \n",
       "reviewid                          \n",
       "1                    0     0   0  \n",
       "47                   0     0   0  \n",
       "50                   0     0   0  \n",
       "51                   0     0   0  \n",
       "57                   0     0   0  \n",
       "\n",
       "[5 rows x 40 columns]"
      ]
     },
     "execution_count": 37,
     "metadata": {},
     "output_type": "execute_result"
    }
   ],
   "source": [
    "music2.head()"
   ]
  },
  {
   "cell_type": "code",
   "execution_count": 38,
   "metadata": {},
   "outputs": [
    {
     "data": {
      "text/plain": [
       "8.0     0.329210\n",
       "7.0     0.285534\n",
       "6.0     0.183792\n",
       "9.0     0.070184\n",
       "5.0     0.058066\n",
       "4.0     0.033577\n",
       "10.0    0.015905\n",
       "3.0     0.012876\n",
       "2.0     0.008331\n",
       "1.0     0.001515\n",
       "0.0     0.001010\n",
       "Name: score, dtype: float64"
      ]
     },
     "execution_count": 38,
     "metadata": {},
     "output_type": "execute_result"
    }
   ],
   "source": [
    "music2.score.value_counts(normalize=True)"
   ]
  },
  {
   "cell_type": "code",
   "execution_count": 39,
   "metadata": {},
   "outputs": [
    {
     "data": {
      "text/html": [
       "<div>\n",
       "<style scoped>\n",
       "    .dataframe tbody tr th:only-of-type {\n",
       "        vertical-align: middle;\n",
       "    }\n",
       "\n",
       "    .dataframe tbody tr th {\n",
       "        vertical-align: top;\n",
       "    }\n",
       "\n",
       "    .dataframe thead th {\n",
       "        text-align: right;\n",
       "    }\n",
       "</style>\n",
       "<table border=\"1\" class=\"dataframe\">\n",
       "  <thead>\n",
       "    <tr style=\"text-align: right;\">\n",
       "      <th></th>\n",
       "      <th>score</th>\n",
       "      <th>pub_year</th>\n",
       "      <th>year</th>\n",
       "      <th>electronic</th>\n",
       "      <th>experimental</th>\n",
       "      <th>folk/country</th>\n",
       "      <th>global</th>\n",
       "      <th>jazz</th>\n",
       "      <th>metal</th>\n",
       "      <th>pop/r&amp;b</th>\n",
       "      <th>...</th>\n",
       "      <th>secretly canadian</th>\n",
       "      <th>self-released</th>\n",
       "      <th>sub pop</th>\n",
       "      <th>temporary residence</th>\n",
       "      <th>thrill jockey</th>\n",
       "      <th>universal</th>\n",
       "      <th>virgin</th>\n",
       "      <th>warner bros.</th>\n",
       "      <th>warp</th>\n",
       "      <th>xl</th>\n",
       "    </tr>\n",
       "    <tr>\n",
       "      <th>reviewid</th>\n",
       "      <th></th>\n",
       "      <th></th>\n",
       "      <th></th>\n",
       "      <th></th>\n",
       "      <th></th>\n",
       "      <th></th>\n",
       "      <th></th>\n",
       "      <th></th>\n",
       "      <th></th>\n",
       "      <th></th>\n",
       "      <th></th>\n",
       "      <th></th>\n",
       "      <th></th>\n",
       "      <th></th>\n",
       "      <th></th>\n",
       "      <th></th>\n",
       "      <th></th>\n",
       "      <th></th>\n",
       "      <th></th>\n",
       "      <th></th>\n",
       "      <th></th>\n",
       "    </tr>\n",
       "  </thead>\n",
       "  <tbody>\n",
       "    <tr>\n",
       "      <th>1</th>\n",
       "      <td>3.0</td>\n",
       "      <td>2004</td>\n",
       "      <td>2004</td>\n",
       "      <td>0</td>\n",
       "      <td>0</td>\n",
       "      <td>0</td>\n",
       "      <td>0</td>\n",
       "      <td>0</td>\n",
       "      <td>0</td>\n",
       "      <td>0</td>\n",
       "      <td>...</td>\n",
       "      <td>0</td>\n",
       "      <td>0</td>\n",
       "      <td>0</td>\n",
       "      <td>0</td>\n",
       "      <td>0</td>\n",
       "      <td>0</td>\n",
       "      <td>0</td>\n",
       "      <td>0</td>\n",
       "      <td>0</td>\n",
       "      <td>0</td>\n",
       "    </tr>\n",
       "    <tr>\n",
       "      <th>47</th>\n",
       "      <td>8.0</td>\n",
       "      <td>2002</td>\n",
       "      <td>2002</td>\n",
       "      <td>1</td>\n",
       "      <td>0</td>\n",
       "      <td>0</td>\n",
       "      <td>0</td>\n",
       "      <td>0</td>\n",
       "      <td>0</td>\n",
       "      <td>0</td>\n",
       "      <td>...</td>\n",
       "      <td>0</td>\n",
       "      <td>0</td>\n",
       "      <td>0</td>\n",
       "      <td>0</td>\n",
       "      <td>0</td>\n",
       "      <td>0</td>\n",
       "      <td>0</td>\n",
       "      <td>0</td>\n",
       "      <td>0</td>\n",
       "      <td>0</td>\n",
       "    </tr>\n",
       "    <tr>\n",
       "      <th>50</th>\n",
       "      <td>7.0</td>\n",
       "      <td>2002</td>\n",
       "      <td>2002</td>\n",
       "      <td>1</td>\n",
       "      <td>1</td>\n",
       "      <td>0</td>\n",
       "      <td>0</td>\n",
       "      <td>0</td>\n",
       "      <td>0</td>\n",
       "      <td>0</td>\n",
       "      <td>...</td>\n",
       "      <td>0</td>\n",
       "      <td>0</td>\n",
       "      <td>0</td>\n",
       "      <td>0</td>\n",
       "      <td>0</td>\n",
       "      <td>0</td>\n",
       "      <td>0</td>\n",
       "      <td>0</td>\n",
       "      <td>0</td>\n",
       "      <td>0</td>\n",
       "    </tr>\n",
       "    <tr>\n",
       "      <th>51</th>\n",
       "      <td>6.0</td>\n",
       "      <td>2000</td>\n",
       "      <td>2000</td>\n",
       "      <td>1</td>\n",
       "      <td>1</td>\n",
       "      <td>0</td>\n",
       "      <td>0</td>\n",
       "      <td>0</td>\n",
       "      <td>0</td>\n",
       "      <td>0</td>\n",
       "      <td>...</td>\n",
       "      <td>0</td>\n",
       "      <td>0</td>\n",
       "      <td>0</td>\n",
       "      <td>0</td>\n",
       "      <td>0</td>\n",
       "      <td>0</td>\n",
       "      <td>0</td>\n",
       "      <td>0</td>\n",
       "      <td>0</td>\n",
       "      <td>0</td>\n",
       "    </tr>\n",
       "    <tr>\n",
       "      <th>57</th>\n",
       "      <td>6.0</td>\n",
       "      <td>2005</td>\n",
       "      <td>2005</td>\n",
       "      <td>1</td>\n",
       "      <td>0</td>\n",
       "      <td>0</td>\n",
       "      <td>0</td>\n",
       "      <td>0</td>\n",
       "      <td>0</td>\n",
       "      <td>0</td>\n",
       "      <td>...</td>\n",
       "      <td>0</td>\n",
       "      <td>0</td>\n",
       "      <td>0</td>\n",
       "      <td>0</td>\n",
       "      <td>1</td>\n",
       "      <td>0</td>\n",
       "      <td>0</td>\n",
       "      <td>0</td>\n",
       "      <td>0</td>\n",
       "      <td>0</td>\n",
       "    </tr>\n",
       "  </tbody>\n",
       "</table>\n",
       "<p>5 rows × 40 columns</p>\n",
       "</div>"
      ],
      "text/plain": [
       "          score  pub_year  year  electronic  experimental  folk/country  \\\n",
       "reviewid                                                                  \n",
       "1           3.0      2004  2004           0             0             0   \n",
       "47          8.0      2002  2002           1             0             0   \n",
       "50          7.0      2002  2002           1             1             0   \n",
       "51          6.0      2000  2000           1             1             0   \n",
       "57          6.0      2005  2005           1             0             0   \n",
       "\n",
       "          global  jazz  metal  pop/r&b ...  secretly canadian  self-released  \\\n",
       "reviewid                               ...                                     \n",
       "1              0     0      0        0 ...                  0              0   \n",
       "47             0     0      0        0 ...                  0              0   \n",
       "50             0     0      0        0 ...                  0              0   \n",
       "51             0     0      0        0 ...                  0              0   \n",
       "57             0     0      0        0 ...                  0              0   \n",
       "\n",
       "          sub pop  temporary residence  thrill jockey  universal  virgin  \\\n",
       "reviewid                                                                   \n",
       "1               0                    0              0          0       0   \n",
       "47              0                    0              0          0       0   \n",
       "50              0                    0              0          0       0   \n",
       "51              0                    0              0          0       0   \n",
       "57              0                    0              1          0       0   \n",
       "\n",
       "          warner bros.  warp  xl  \n",
       "reviewid                          \n",
       "1                    0     0   0  \n",
       "47                   0     0   0  \n",
       "50                   0     0   0  \n",
       "51                   0     0   0  \n",
       "57                   0     0   0  \n",
       "\n",
       "[5 rows x 40 columns]"
      ]
     },
     "execution_count": 39,
     "metadata": {},
     "output_type": "execute_result"
    }
   ],
   "source": [
    "music2.head()"
   ]
  },
  {
   "cell_type": "code",
   "execution_count": 40,
   "metadata": {},
   "outputs": [],
   "source": [
    "def func(row):\n",
    "    if row['score'] >8:\n",
    "        return 'Criticaly Acclaimed'\n",
    "    elif row['score'] >6:\n",
    "        return 'Good Album' \n",
    "    else:\n",
    "        return 'Bad Album'\n",
    "\n",
    "music2['rating'] = music2.apply(func, axis=1)"
   ]
  },
  {
   "cell_type": "code",
   "execution_count": 41,
   "metadata": {},
   "outputs": [
    {
     "data": {
      "text/plain": [
       "Good Album             0.614744\n",
       "Bad Album              0.299167\n",
       "Criticaly Acclaimed    0.086089\n",
       "Name: rating, dtype: float64"
      ]
     },
     "execution_count": 41,
     "metadata": {},
     "output_type": "execute_result"
    }
   ],
   "source": [
    "music2.rating.value_counts(normalize=True)"
   ]
  },
  {
   "cell_type": "code",
   "execution_count": 42,
   "metadata": {},
   "outputs": [
    {
     "data": {
      "text/html": [
       "<div>\n",
       "<style scoped>\n",
       "    .dataframe tbody tr th:only-of-type {\n",
       "        vertical-align: middle;\n",
       "    }\n",
       "\n",
       "    .dataframe tbody tr th {\n",
       "        vertical-align: top;\n",
       "    }\n",
       "\n",
       "    .dataframe thead th {\n",
       "        text-align: right;\n",
       "    }\n",
       "</style>\n",
       "<table border=\"1\" class=\"dataframe\">\n",
       "  <thead>\n",
       "    <tr style=\"text-align: right;\">\n",
       "      <th></th>\n",
       "      <th>score</th>\n",
       "      <th>pub_year</th>\n",
       "      <th>year</th>\n",
       "      <th>electronic</th>\n",
       "      <th>experimental</th>\n",
       "      <th>folk/country</th>\n",
       "      <th>global</th>\n",
       "      <th>jazz</th>\n",
       "      <th>metal</th>\n",
       "      <th>pop/r&amp;b</th>\n",
       "      <th>...</th>\n",
       "      <th>self-released</th>\n",
       "      <th>sub pop</th>\n",
       "      <th>temporary residence</th>\n",
       "      <th>thrill jockey</th>\n",
       "      <th>universal</th>\n",
       "      <th>virgin</th>\n",
       "      <th>warner bros.</th>\n",
       "      <th>warp</th>\n",
       "      <th>xl</th>\n",
       "      <th>rating</th>\n",
       "    </tr>\n",
       "    <tr>\n",
       "      <th>reviewid</th>\n",
       "      <th></th>\n",
       "      <th></th>\n",
       "      <th></th>\n",
       "      <th></th>\n",
       "      <th></th>\n",
       "      <th></th>\n",
       "      <th></th>\n",
       "      <th></th>\n",
       "      <th></th>\n",
       "      <th></th>\n",
       "      <th></th>\n",
       "      <th></th>\n",
       "      <th></th>\n",
       "      <th></th>\n",
       "      <th></th>\n",
       "      <th></th>\n",
       "      <th></th>\n",
       "      <th></th>\n",
       "      <th></th>\n",
       "      <th></th>\n",
       "      <th></th>\n",
       "    </tr>\n",
       "  </thead>\n",
       "  <tbody>\n",
       "    <tr>\n",
       "      <th>1</th>\n",
       "      <td>3.0</td>\n",
       "      <td>2004</td>\n",
       "      <td>2004</td>\n",
       "      <td>0</td>\n",
       "      <td>0</td>\n",
       "      <td>0</td>\n",
       "      <td>0</td>\n",
       "      <td>0</td>\n",
       "      <td>0</td>\n",
       "      <td>0</td>\n",
       "      <td>...</td>\n",
       "      <td>0</td>\n",
       "      <td>0</td>\n",
       "      <td>0</td>\n",
       "      <td>0</td>\n",
       "      <td>0</td>\n",
       "      <td>0</td>\n",
       "      <td>0</td>\n",
       "      <td>0</td>\n",
       "      <td>0</td>\n",
       "      <td>Bad Album</td>\n",
       "    </tr>\n",
       "    <tr>\n",
       "      <th>47</th>\n",
       "      <td>8.0</td>\n",
       "      <td>2002</td>\n",
       "      <td>2002</td>\n",
       "      <td>1</td>\n",
       "      <td>0</td>\n",
       "      <td>0</td>\n",
       "      <td>0</td>\n",
       "      <td>0</td>\n",
       "      <td>0</td>\n",
       "      <td>0</td>\n",
       "      <td>...</td>\n",
       "      <td>0</td>\n",
       "      <td>0</td>\n",
       "      <td>0</td>\n",
       "      <td>0</td>\n",
       "      <td>0</td>\n",
       "      <td>0</td>\n",
       "      <td>0</td>\n",
       "      <td>0</td>\n",
       "      <td>0</td>\n",
       "      <td>Good Album</td>\n",
       "    </tr>\n",
       "    <tr>\n",
       "      <th>50</th>\n",
       "      <td>7.0</td>\n",
       "      <td>2002</td>\n",
       "      <td>2002</td>\n",
       "      <td>1</td>\n",
       "      <td>1</td>\n",
       "      <td>0</td>\n",
       "      <td>0</td>\n",
       "      <td>0</td>\n",
       "      <td>0</td>\n",
       "      <td>0</td>\n",
       "      <td>...</td>\n",
       "      <td>0</td>\n",
       "      <td>0</td>\n",
       "      <td>0</td>\n",
       "      <td>0</td>\n",
       "      <td>0</td>\n",
       "      <td>0</td>\n",
       "      <td>0</td>\n",
       "      <td>0</td>\n",
       "      <td>0</td>\n",
       "      <td>Good Album</td>\n",
       "    </tr>\n",
       "    <tr>\n",
       "      <th>51</th>\n",
       "      <td>6.0</td>\n",
       "      <td>2000</td>\n",
       "      <td>2000</td>\n",
       "      <td>1</td>\n",
       "      <td>1</td>\n",
       "      <td>0</td>\n",
       "      <td>0</td>\n",
       "      <td>0</td>\n",
       "      <td>0</td>\n",
       "      <td>0</td>\n",
       "      <td>...</td>\n",
       "      <td>0</td>\n",
       "      <td>0</td>\n",
       "      <td>0</td>\n",
       "      <td>0</td>\n",
       "      <td>0</td>\n",
       "      <td>0</td>\n",
       "      <td>0</td>\n",
       "      <td>0</td>\n",
       "      <td>0</td>\n",
       "      <td>Bad Album</td>\n",
       "    </tr>\n",
       "    <tr>\n",
       "      <th>57</th>\n",
       "      <td>6.0</td>\n",
       "      <td>2005</td>\n",
       "      <td>2005</td>\n",
       "      <td>1</td>\n",
       "      <td>0</td>\n",
       "      <td>0</td>\n",
       "      <td>0</td>\n",
       "      <td>0</td>\n",
       "      <td>0</td>\n",
       "      <td>0</td>\n",
       "      <td>...</td>\n",
       "      <td>0</td>\n",
       "      <td>0</td>\n",
       "      <td>0</td>\n",
       "      <td>1</td>\n",
       "      <td>0</td>\n",
       "      <td>0</td>\n",
       "      <td>0</td>\n",
       "      <td>0</td>\n",
       "      <td>0</td>\n",
       "      <td>Bad Album</td>\n",
       "    </tr>\n",
       "  </tbody>\n",
       "</table>\n",
       "<p>5 rows × 41 columns</p>\n",
       "</div>"
      ],
      "text/plain": [
       "          score  pub_year  year  electronic  experimental  folk/country  \\\n",
       "reviewid                                                                  \n",
       "1           3.0      2004  2004           0             0             0   \n",
       "47          8.0      2002  2002           1             0             0   \n",
       "50          7.0      2002  2002           1             1             0   \n",
       "51          6.0      2000  2000           1             1             0   \n",
       "57          6.0      2005  2005           1             0             0   \n",
       "\n",
       "          global  jazz  metal  pop/r&b     ...      self-released  sub pop  \\\n",
       "reviewid                                   ...                               \n",
       "1              0     0      0        0     ...                  0        0   \n",
       "47             0     0      0        0     ...                  0        0   \n",
       "50             0     0      0        0     ...                  0        0   \n",
       "51             0     0      0        0     ...                  0        0   \n",
       "57             0     0      0        0     ...                  0        0   \n",
       "\n",
       "          temporary residence  thrill jockey  universal  virgin  warner bros.  \\\n",
       "reviewid                                                                        \n",
       "1                           0              0          0       0             0   \n",
       "47                          0              0          0       0             0   \n",
       "50                          0              0          0       0             0   \n",
       "51                          0              0          0       0             0   \n",
       "57                          0              1          0       0             0   \n",
       "\n",
       "          warp  xl      rating  \n",
       "reviewid                        \n",
       "1            0   0   Bad Album  \n",
       "47           0   0  Good Album  \n",
       "50           0   0  Good Album  \n",
       "51           0   0   Bad Album  \n",
       "57           0   0   Bad Album  \n",
       "\n",
       "[5 rows x 41 columns]"
      ]
     },
     "execution_count": 42,
     "metadata": {},
     "output_type": "execute_result"
    }
   ],
   "source": [
    "music2.head()"
   ]
  },
  {
   "cell_type": "code",
   "execution_count": 43,
   "metadata": {
    "scrolled": true
   },
   "outputs": [
    {
     "data": {
      "text/plain": [
       "Index(['score', 'pub_year', 'year', 'electronic', 'experimental',\n",
       "       'folk/country', 'global', 'jazz', 'metal', 'pop/r&b', 'rap', 'rock',\n",
       "       '4ad', 'anti-', 'astralwerks', 'atlantic', 'capitol', 'columbia',\n",
       "       'def jam', 'domino', 'drag city', 'interscope', 'jagjaguwar',\n",
       "       'kill rock stars', 'kranky', 'matador', 'merge', 'mute', 'polyvinyl',\n",
       "       'rough trade', 'secretly canadian', 'self-released', 'sub pop',\n",
       "       'temporary residence', 'thrill jockey', 'universal', 'virgin',\n",
       "       'warner bros.', 'warp', 'xl', 'rating'],\n",
       "      dtype='object')"
      ]
     },
     "execution_count": 43,
     "metadata": {},
     "output_type": "execute_result"
    }
   ],
   "source": [
    "music2.columns"
   ]
  },
  {
   "cell_type": "markdown",
   "metadata": {},
   "source": [
    "# Logistic Regression"
   ]
  },
  {
   "cell_type": "code",
   "execution_count": 44,
   "metadata": {},
   "outputs": [],
   "source": [
    "from sklearn.linear_model import LogisticRegression\n",
    "\n",
    "logreg = LogisticRegression()\n",
    "\n",
    "feature_cols = ['pub_year', 'year', 'electronic', 'experimental', 'folk/country',\n",
    "       'global', 'jazz', 'metal', 'pop/r&b', 'rap', 'rock', '4ad', 'anti-',\n",
    "       'astralwerks', 'atlantic', 'capitol', 'columbia', 'def jam', 'domino',\n",
    "       'drag city', 'interscope', 'jagjaguwar', 'kill rock stars', 'kranky',\n",
    "       'matador', 'merge', 'mute', 'polyvinyl', 'rough trade',\n",
    "       'secretly canadian', 'self-released', 'sub pop', 'temporary residence',\n",
    "       'thrill jockey', 'universal', 'virgin', 'warner bros.', 'warp', 'xl']\n",
    "X = music2[feature_cols]\n",
    "y = music2.rating\n",
    "\n",
    "logreg.fit(X,y)\n",
    "pred = logreg.predict(X)"
   ]
  },
  {
   "cell_type": "code",
   "execution_count": 45,
   "metadata": {
    "scrolled": true
   },
   "outputs": [
    {
     "data": {
      "text/plain": [
       "array([[0.32276754, 0.05353764, 0.62369482],\n",
       "       [0.4594452 , 0.04117305, 0.49938175],\n",
       "       [0.25625966, 0.05021055, 0.69352979],\n",
       "       [0.25644848, 0.05030245, 0.69324907],\n",
       "       [0.26013684, 0.03523116, 0.70463201],\n",
       "       [0.26013684, 0.03523116, 0.70463201],\n",
       "       [0.23075195, 0.12641167, 0.64283638],\n",
       "       [0.2305977 , 0.12621391, 0.6431884 ],\n",
       "       [0.45839476, 0.03614637, 0.50545887],\n",
       "       [0.45808771, 0.03604679, 0.5058655 ]])"
      ]
     },
     "execution_count": 45,
     "metadata": {},
     "output_type": "execute_result"
    }
   ],
   "source": [
    "logreg.predict_proba(X)[0:10]"
   ]
  },
  {
   "cell_type": "code",
   "execution_count": 46,
   "metadata": {},
   "outputs": [
    {
     "data": {
      "text/plain": [
       "0.6337033299697276"
      ]
     },
     "execution_count": 46,
     "metadata": {},
     "output_type": "execute_result"
    }
   ],
   "source": [
    "from sklearn.linear_model import LogisticRegression\n",
    "LR = LogisticRegression()\n",
    "X = music2[['pub_year', 'year', 'electronic', 'experimental', 'folk/country',\n",
    "       'global', 'jazz', 'metal', 'pop/r&b', 'rap', 'rock', '4ad', 'anti-',\n",
    "       'astralwerks', 'atlantic', 'capitol', 'columbia', 'def jam', 'domino',\n",
    "       'drag city', 'interscope', 'jagjaguwar', 'kill rock stars', 'kranky',\n",
    "       'matador', 'merge', 'mute', 'polyvinyl', 'rough trade',\n",
    "       'secretly canadian', 'self-released', 'sub pop', 'temporary residence',\n",
    "       'thrill jockey', 'universal', 'virgin', 'warner bros.', 'warp', 'xl']]\n",
    "y = music2.rating\n",
    "\n",
    "from sklearn.model_selection import train_test_split\n",
    "\n",
    "X_train, X_test, y_train, y_test = train_test_split(X,y)\n",
    "\n",
    "LR.fit(X_train,y_train)\n",
    "\n",
    "y_pred = LR.predict(X_test)\n",
    "\n",
    "LR.score(X_test, y_test)"
   ]
  },
  {
   "cell_type": "code",
   "execution_count": 47,
   "metadata": {},
   "outputs": [
    {
     "data": {
      "text/plain": [
       "0.6256306760847629"
      ]
     },
     "execution_count": 47,
     "metadata": {},
     "output_type": "execute_result"
    }
   ],
   "source": [
    "from sklearn.linear_model import LogisticRegression\n",
    "LR = LogisticRegression()\n",
    "X = music2[['pub_year', 'year', 'electronic', 'experimental', 'folk/country',\n",
    "       'global', 'jazz', 'metal', 'pop/r&b', 'rap', 'rock']]\n",
    "y = music2.rating\n",
    "\n",
    "from sklearn.model_selection import train_test_split\n",
    "\n",
    "X_train, X_test, y_train, y_test = train_test_split(X,y)\n",
    "\n",
    "LR.fit(X_train,y_train)\n",
    "\n",
    "y_pred = LR.predict(X_test)\n",
    "\n",
    "LR.score(X_test, y_test)"
   ]
  },
  {
   "cell_type": "code",
   "execution_count": 49,
   "metadata": {},
   "outputs": [
    {
     "data": {
      "text/plain": [
       "0.6522530723714156"
      ]
     },
     "execution_count": 49,
     "metadata": {},
     "output_type": "execute_result"
    }
   ],
   "source": [
    "from sklearn.linear_model import LogisticRegression\n",
    "LR = LogisticRegression()\n",
    "X = music1[['pub_year', 'year']]\n",
    "y = music1.rating\n",
    "\n",
    "from sklearn.model_selection import train_test_split\n",
    "\n",
    "X_train, X_test, y_train, y_test = train_test_split(X,y)\n",
    "\n",
    "LR.fit(X_train,y_train)\n",
    "\n",
    "y_pred = LR.predict(X_test)\n",
    "\n",
    "LR.score(X_test, y_test)"
   ]
  },
  {
   "cell_type": "code",
   "execution_count": 50,
   "metadata": {},
   "outputs": [
    {
     "data": {
      "text/plain": [
       "array([[  6,  74,   7],\n",
       "       [  2, 571,  38],\n",
       "       [  0, 253,  40]])"
      ]
     },
     "execution_count": 50,
     "metadata": {},
     "output_type": "execute_result"
    }
   ],
   "source": [
    "from sklearn.metrics import confusion_matrix\n",
    "from sklearn.linear_model import LogisticRegression\n",
    "LR = LogisticRegression()\n",
    "X = music2[['pub_year', 'year', 'electronic', 'experimental', 'folk/country',\n",
    "       'global', 'jazz', 'metal', 'pop/r&b', 'rap', 'rock', '4ad', 'anti-',\n",
    "       'astralwerks', 'atlantic', 'capitol', 'columbia', 'def jam', 'domino',\n",
    "       'drag city', 'interscope', 'jagjaguwar', 'kill rock stars', 'kranky',\n",
    "       'matador', 'merge', 'mute', 'polyvinyl', 'rough trade',\n",
    "       'secretly canadian', 'self-released', 'sub pop', 'temporary residence',\n",
    "       'thrill jockey', 'universal', 'virgin', 'warner bros.', 'warp', 'xl']]\n",
    "y = music2.rating\n",
    "\n",
    "from sklearn.model_selection import train_test_split\n",
    "\n",
    "X_train, X_test, y_train, y_test = train_test_split(X,y)\n",
    "\n",
    "LR.fit(X_train,y_train)\n",
    "\n",
    "y_pred = LR.predict(X_test)\n",
    "\n",
    "LR.score(X_test, y_test)\n",
    "confusion_matrix(y_test, y_pred, labels=[\"Criticaly Acclaimed\",\"Good Album\", \"Bad Album\"])"
   ]
  },
  {
   "cell_type": "code",
   "execution_count": 51,
   "metadata": {},
   "outputs": [
    {
     "name": "stdout",
     "output_type": "stream",
     "text": [
      "                     precision    recall  f1-score   support\n",
      "\n",
      "          Bad Album       0.47      0.14      0.21       293\n",
      "Criticaly Acclaimed       0.75      0.07      0.13        87\n",
      "         Good Album       0.64      0.93      0.76       611\n",
      "\n",
      "        avg / total       0.60      0.62      0.54       991\n",
      "\n"
     ]
    }
   ],
   "source": [
    "from sklearn.metrics import classification_report\n",
    "print(classification_report(y_test, LR.predict(X_test)))"
   ]
  },
  {
   "cell_type": "code",
   "execution_count": 52,
   "metadata": {},
   "outputs": [
    {
     "data": {
      "image/png": "[encoded data removed]",
      "text/plain": [
       "<Figure size 576x360 with 1 Axes>"
      ]
     },
     "metadata": {},
     "output_type": "display_data"
    }
   ],
   "source": [
    "from sklearn.metrics import classification_report\n",
    "import seaborn as sns\n",
    "conmat = np.array(confusion_matrix(y_test, LR.predict(X_test)))\n",
    "confusion = pd.DataFrame(conmat, index=['Bad Album', 'Critically Acclaimed', 'Good Album'],\\\n",
    "                     columns=['Pred BA', 'Pred CA', 'Pred GA'])\n",
    "\n",
    "plt.figure(figsize=(8,5))\n",
    "heat = sns.heatmap(confusion, annot=True, annot_kws={\"size\": 20}, \n",
    "                   cmap='Blues', fmt='g', cbar=False)\n",
    "plt.xticks(rotation=0, fontsize=14)\n",
    "plt.yticks(fontsize=14)\n",
    "plt.title(\"Confusion Matrix\", fontsize=20)\n",
    "plt.yticks(rotation=0);"
   ]
  },
  {
   "cell_type": "markdown",
   "metadata": {},
   "source": [
    "# Random Forest"
   ]
  },
  {
   "cell_type": "code",
   "execution_count": 53,
   "metadata": {},
   "outputs": [
    {
     "name": "stdout",
     "output_type": "stream",
     "text": [
      "reviewid\n",
      "1     0\n",
      "47    1\n",
      "50    1\n",
      "51    0\n",
      "57    0\n",
      "Name: rating, dtype: int64\n",
      "Index(['Bad Album', 'Good Album', 'Criticaly Acclaimed'], dtype='object')\n"
     ]
    }
   ],
   "source": [
    "music12 = music2\n",
    "factor = pd.factorize(music12['rating'])\n",
    "music12.rating = factor[0]\n",
    "definitions = factor[1]\n",
    "print(music12.rating.head())\n",
    "print(definitions)"
   ]
  },
  {
   "cell_type": "code",
   "execution_count": 54,
   "metadata": {},
   "outputs": [],
   "source": [
    "X = music12.iloc[:,1:3].values\n",
    "y = music12.rating.values\n",
    "X_train, X_test, y_train, y_test = train_test_split(X, y, random_state = 8)"
   ]
  },
  {
   "cell_type": "code",
   "execution_count": 56,
   "metadata": {},
   "outputs": [
    {
     "data": {
      "text/plain": [
       "0.6175580221997982"
      ]
     },
     "execution_count": 56,
     "metadata": {},
     "output_type": "execute_result"
    }
   ],
   "source": [
    "from sklearn.ensemble import RandomForestClassifier\n",
    "RF = RandomForestClassifier(n_estimators = 4, criterion = 'gini', random_state = 33)\n",
    "RF.fit(X_train, y_train)\n",
    "RF.score(X_test, y_test)"
   ]
  },
  {
   "cell_type": "code",
   "execution_count": 57,
   "metadata": {},
   "outputs": [
    {
     "name": "stdout",
     "output_type": "stream",
     "text": [
      "             precision    recall  f1-score   support\n",
      "\n",
      "          0       0.34      0.04      0.07       286\n",
      "          1       0.63      0.97      0.76       617\n",
      "          2       1.00      0.01      0.02        88\n",
      "\n",
      "avg / total       0.58      0.62      0.50       991\n",
      "\n"
     ]
    }
   ],
   "source": [
    "print(classification_report(y_test, RF.predict(X_test)))"
   ]
  },
  {
   "cell_type": "code",
   "execution_count": 58,
   "metadata": {},
   "outputs": [
    {
     "data": {
      "image/png": "[encoded data removed]",
      "text/plain": [
       "<Figure size 576x360 with 1 Axes>"
      ]
     },
     "metadata": {},
     "output_type": "display_data"
    }
   ],
   "source": [
    "conmat = np.array(confusion_matrix(y_test, RF.predict(X_test)))\n",
    "confusion = pd.DataFrame(conmat, index=['Bad Album', 'Good Album','Critically Acclaimed'],\\\n",
    "                     columns=['Pred BA', 'Pred GA', 'Pred CA'])\n",
    "\n",
    "plt.figure(figsize=(8,5))\n",
    "heat = sns.heatmap(confusion, annot=True, annot_kws={\"size\": 20}, \n",
    "                   cmap='Blues', fmt='g', cbar=False)\n",
    "plt.xticks(rotation=0, fontsize=14)\n",
    "plt.yticks(fontsize=14)\n",
    "plt.title(\"Confusion Matrix\", fontsize=20)\n",
    "plt.yticks(rotation=0);"
   ]
  },
  {
   "cell_type": "code",
   "execution_count": 59,
   "metadata": {},
   "outputs": [
    {
     "name": "stdout",
     "output_type": "stream",
     "text": [
      "Processing GridSearch. Please hold for the next available set of outputs.\n",
      "\n",
      "{'criterion': 'gini', 'max_depth': 2, 'min_samples_leaf': 1, 'min_samples_split': 2, 'n_estimators': 3}\n",
      "0.6147437515778844\n"
     ]
    }
   ],
   "source": [
    "from sklearn.model_selection import GridSearchCV\n",
    "\n",
    "print('Processing GridSearch. Please hold for the next available set of outputs.\\n')\n",
    "parameters = {\"max_depth\": [2,3,4,5,6,7,8,9,10,11,12]\n",
    "             ,\"min_samples_split\" :[2,3,4,5,6]\n",
    "             ,\"n_estimators\" : [2,3,4,5,6,7,8,9]\n",
    "             ,\"min_samples_leaf\": [1,2,3,4,5]\n",
    "             ,\"criterion\": ('gini','entropy')}\n",
    "\n",
    "rf = RandomForestClassifier(random_state=33)\n",
    "gd_model = GridSearchCV(rf, parameters, n_jobs = -1, cv=10)\n",
    "gd_model.fit(X,y)\n",
    "\n",
    "print(gd_model.best_params_)\n",
    "print(gd_model.best_score_)"
   ]
  },
  {
   "cell_type": "markdown",
   "metadata": {},
   "source": [
    "# Support Vector Machine Classifier "
   ]
  },
  {
   "cell_type": "code",
   "execution_count": 297,
   "metadata": {},
   "outputs": [
    {
     "data": {
      "text/plain": [
       "0.6316851664984864"
      ]
     },
     "execution_count": 297,
     "metadata": {},
     "output_type": "execute_result"
    }
   ],
   "source": [
    "from sklearn.svm import SVC\n",
    "X = music2[['pub_year', 'year', 'electronic', 'experimental', 'folk/country',\n",
    "       'global', 'jazz', 'metal', 'pop/r&b', 'rap', 'rock', '4ad', 'anti-',\n",
    "       'astralwerks', 'atlantic', 'capitol', 'columbia', 'def jam', 'domino',\n",
    "       'drag city', 'interscope', 'jagjaguwar', 'kill rock stars', 'kranky',\n",
    "       'matador', 'merge', 'mute', 'polyvinyl', 'rough trade',\n",
    "       'secretly canadian', 'self-released', 'sub pop', 'temporary residence',\n",
    "       'thrill jockey', 'universal', 'virgin', 'warner bros.', 'warp', 'xl']]\n",
    "y = music2.rating\n",
    "X_train, X_test, y_train, y_test = train_test_split(X, y, random_state = 9)\n",
    "svm_model = SVC(kernel = 'rbf', C = 10).fit(X_train, y_train)\n",
    "svm_predictions = svm_model.predict(X_test)\n",
    "svm_model.score(X_test, y_test)"
   ]
  },
  {
   "cell_type": "markdown",
   "metadata": {},
   "source": [
    "C: a parameter that determines how you control your thresh-holds and whether you wanna minimise your false positives or negatives and control the error margin or detect outliers \n",
    "\n",
    "kernel: it determines what type of function will be your dicision function depending on your problem and what kind of relations did you conclude on your EDA"
   ]
  },
  {
   "cell_type": "code",
   "execution_count": 110,
   "metadata": {},
   "outputs": [
    {
     "data": {
      "image/png": "[encoded data removed]",
      "text/plain": [
       "<Figure size 576x360 with 1 Axes>"
      ]
     },
     "metadata": {},
     "output_type": "display_data"
    }
   ],
   "source": [
    "conmat = np.array(confusion_matrix(y_test, svm_model.predict(X_test)))\n",
    "confusion = pd.DataFrame(conmat, index=['Bad Album', 'Good Album','Critically Acclaimed'],\\\n",
    "                     columns=['Pred BA', 'Pred GA', 'Pred CA'])\n",
    "\n",
    "plt.figure(figsize=(8,5))\n",
    "heat = sns.heatmap(confusion, annot=True, annot_kws={\"size\": 20}, \n",
    "                   cmap='Blues', fmt='g', cbar=False)\n",
    "plt.xticks(rotation=0, fontsize=14)\n",
    "plt.yticks(fontsize=14)\n",
    "plt.title(\"Confusion Matrix\", fontsize=20)\n",
    "plt.yticks(rotation=0);"
   ]
  },
  {
   "cell_type": "code",
   "execution_count": 111,
   "metadata": {},
   "outputs": [
    {
     "name": "stdout",
     "output_type": "stream",
     "text": [
      "             precision    recall  f1-score   support\n",
      "\n",
      "          0       0.44      0.22      0.30       274\n",
      "          1       0.66      0.90      0.76       627\n",
      "          2       0.75      0.03      0.06        90\n",
      "\n",
      "avg / total       0.61      0.63      0.57       991\n",
      "\n"
     ]
    }
   ],
   "source": [
    "print(classification_report(y_test, svm_model.predict(X_test)))"
   ]
  },
  {
   "cell_type": "markdown",
   "metadata": {},
   "source": [
    "# Bernoulli Naive Bayes"
   ]
  },
  {
   "cell_type": "code",
   "execution_count": 331,
   "metadata": {},
   "outputs": [
    {
     "data": {
      "text/plain": [
       "0.6417759838546923"
      ]
     },
     "execution_count": 331,
     "metadata": {},
     "output_type": "execute_result"
    }
   ],
   "source": [
    "from sklearn.naive_bayes import BernoulliNB\n",
    "X = music2[['pub_year', 'year', 'electronic', 'experimental', 'folk/country',\n",
    "       'global', 'jazz', 'metal', 'pop/r&b', 'rap', 'rock', '4ad', 'anti-',\n",
    "       'astralwerks', 'atlantic', 'capitol', 'columbia', 'def jam', 'domino',\n",
    "       'drag city', 'interscope', 'jagjaguwar', 'kill rock stars', 'kranky',\n",
    "       'matador', 'merge', 'mute', 'polyvinyl', 'rough trade',\n",
    "       'secretly canadian', 'self-released', 'sub pop', 'temporary residence',\n",
    "       'thrill jockey', 'universal', 'virgin', 'warner bros.', 'warp', 'xl']]\n",
    "y = music2.rating\n",
    "X_train, X_test, y_train, y_test = train_test_split(X, y, random_state = 3)\n",
    "bnb = BernoulliNB().fit(X, y)\n",
    "bnb_predict = bnb.predict(X_test)\n",
    "bnb.score(X_test, y_test)"
   ]
  },
  {
   "cell_type": "code",
   "execution_count": 332,
   "metadata": {},
   "outputs": [
    {
     "data": {
      "image/png": "[encoded data removed]",
      "text/plain": [
       "<Figure size 576x360 with 1 Axes>"
      ]
     },
     "metadata": {},
     "output_type": "display_data"
    }
   ],
   "source": [
    "conmat = np.array(confusion_matrix(y_test, bnb.predict(X_test)))\n",
    "confusion = pd.DataFrame(conmat, index=['Bad Album', 'Good Album','Critically Acclaimed'],\\\n",
    "                     columns=['Pred BA', 'Pred GA', 'Pred CA'])\n",
    "\n",
    "plt.figure(figsize=(8,5))\n",
    "heat = sns.heatmap(confusion, annot=True, annot_kws={\"size\": 20}, \n",
    "                   cmap='Blues', fmt='g', cbar=False)\n",
    "plt.xticks(rotation=0, fontsize=14)\n",
    "plt.yticks(fontsize=14)\n",
    "plt.title(\"Confusion Matrix\", fontsize=20)\n",
    "plt.yticks(rotation=0);"
   ]
  },
  {
   "cell_type": "code",
   "execution_count": 333,
   "metadata": {},
   "outputs": [
    {
     "name": "stdout",
     "output_type": "stream",
     "text": [
      "             precision    recall  f1-score   support\n",
      "\n",
      "          0       0.50      0.26      0.34       282\n",
      "          1       0.67      0.90      0.77       625\n",
      "          2       0.33      0.01      0.02        84\n",
      "\n",
      "avg / total       0.59      0.64      0.58       991\n",
      "\n"
     ]
    }
   ],
   "source": [
    "print(classification_report(y_test, bnb.predict(X_test)))"
   ]
  },
  {
   "cell_type": "markdown",
   "metadata": {},
   "source": [
    "# Multinomial Naive Bayes"
   ]
  },
  {
   "cell_type": "code",
   "execution_count": 373,
   "metadata": {},
   "outputs": [
    {
     "data": {
      "text/plain": [
       "0.656912209889001"
      ]
     },
     "execution_count": 373,
     "metadata": {},
     "output_type": "execute_result"
    }
   ],
   "source": [
    "from sklearn.naive_bayes import MultinomialNB\n",
    "X = music2[['pub_year', 'year', 'electronic', 'experimental', 'folk/country',\n",
    "       'global', 'jazz', 'metal', 'pop/r&b', 'rap', 'rock', '4ad', 'anti-',\n",
    "       'astralwerks', 'atlantic', 'capitol', 'columbia', 'def jam', 'domino',\n",
    "       'drag city', 'interscope', 'jagjaguwar', 'kill rock stars', 'kranky',\n",
    "       'matador', 'merge', 'mute', 'polyvinyl', 'rough trade',\n",
    "       'secretly canadian', 'self-released', 'sub pop', 'temporary residence',\n",
    "       'thrill jockey', 'universal', 'virgin', 'warner bros.', 'warp', 'xl']]\n",
    "y = music2.rating\n",
    "X_train, X_test, y_train, y_test = train_test_split(X, y, random_state = 29)\n",
    "mnb = MultinomialNB().fit(X, y)\n",
    "mnb_predict = mnb.predict(X_test)\n",
    "mnb.score(X_test, y_test)"
   ]
  },
  {
   "cell_type": "code",
   "execution_count": 374,
   "metadata": {},
   "outputs": [
    {
     "data": {
      "image/png": "[encoded data removed]",
      "text/plain": [
       "<Figure size 576x360 with 1 Axes>"
      ]
     },
     "metadata": {},
     "output_type": "display_data"
    }
   ],
   "source": [
    "conmat = np.array(confusion_matrix(y_test, mnb.predict(X_test)))\n",
    "confusion = pd.DataFrame(conmat, index=['Bad Album', 'Good Album','Critically Acclaimed'],\\\n",
    "                     columns=['Pred BA', 'Pred GA', 'Pred CA'])\n",
    "\n",
    "plt.figure(figsize=(8,5))\n",
    "heat = sns.heatmap(confusion, annot=True, annot_kws={\"size\": 20}, \n",
    "                   cmap='Blues', fmt='g', cbar=False)\n",
    "plt.xticks(rotation=0, fontsize=14)\n",
    "plt.yticks(fontsize=14)\n",
    "plt.title(\"Confusion Matrix\", fontsize=20)\n",
    "plt.yticks(rotation=0);"
   ]
  },
  {
   "cell_type": "code",
   "execution_count": 375,
   "metadata": {},
   "outputs": [
    {
     "name": "stdout",
     "output_type": "stream",
     "text": [
      "             precision    recall  f1-score   support\n",
      "\n",
      "          0       0.49      0.27      0.35       271\n",
      "          1       0.69      0.90      0.78       638\n",
      "          2       0.33      0.01      0.02        82\n",
      "\n",
      "avg / total       0.60      0.66      0.60       991\n",
      "\n"
     ]
    }
   ],
   "source": [
    "print(classification_report(y_test, mnb.predict(X_test)))"
   ]
  },
  {
   "cell_type": "code",
   "execution_count": null,
   "metadata": {},
   "outputs": [],
   "source": []
  }
 ],
 "metadata": {
  "kernelspec": {
   "display_name": "Python 3",
   "language": "python",
   "name": "python3"
  },
  "language_info": {
   "codemirror_mode": {
    "name": "ipython",
    "version": 3
   },
   "file_extension": ".py",
   "mimetype": "text/x-python",
   "name": "python",
   "nbconvert_exporter": "python",
   "pygments_lexer": "ipython3",
   "version": "3.6.5"
  }
 },
 "nbformat": 4,
 "nbformat_minor": 2
}
