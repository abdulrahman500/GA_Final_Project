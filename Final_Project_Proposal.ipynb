{
 "cells": [
  {
   "cell_type": "markdown",
   "metadata": {},
   "source": [
    "# Introduction\n",
    "\n",
    "Music reviews are one of the main drivers of success in the career of a musician. The score of an album in a review can direct or influence fans, labels and blogs.  "
   ]
  },
  {
   "cell_type": "markdown",
   "metadata": {},
   "source": [
    "# Problem Statement \n",
    "\n",
    "Evaluating artistic projects are hard since they lack standard criteria and are more subjective by design. If there was a way to predict the critics perception of an album then music companies, musicians and app developers will utilize that highly."
   ]
  },
  {
   "cell_type": "markdown",
   "metadata": {},
   "source": [
    "# Hypothesis \n",
    "\n",
    "I want to look at how prior beliefs and image of the band affect/shape the outcome of the critics rating score without examining the evaluated album itself. "
   ]
  },
  {
   "cell_type": "markdown",
   "metadata": {},
   "source": [
    "# Assumptions \n",
    "\n",
    "•\tThe ratings are normally distributed\n",
    "\n",
    "•\tThe sampled reviews are a representative of the critics’ scene \n",
    "\n",
    "•\tThe data is authentic \n"
   ]
  },
  {
   "cell_type": "markdown",
   "metadata": {},
   "source": [
    "# Data Source\n",
    "\n",
    "The data is withdrawn from Kaggle. The data is popular and follows the known behavior of music reviews so it looks legit enough for the purposes of this project.\n",
    "\n",
    "https://www.kaggle.com/nolanbconaway/pitchfork-data\n"
   ]
  },
  {
   "cell_type": "markdown",
   "metadata": {},
   "source": [
    "# Goals & Success Metrics\n",
    "\n",
    "•\tEvaluating the dataset to different models and compare them\n",
    "\n",
    "•\tOptimize the data and models to achieve maximum impact\n",
    "\n",
    "•\tAchieve a good models accuracy  \n",
    "\n",
    "•\tExplore the characteristics, limits and advantages of each approach \n"
   ]
  },
  {
   "cell_type": "markdown",
   "metadata": {},
   "source": [
    "# Risks & Limitations \n",
    "\n",
    "•\tOverfitting the model \n",
    "\n",
    "•\tImportant features that aren’t in the dataset\n",
    "\n",
    "•\tLess than two months to produce \n"
   ]
  },
  {
   "cell_type": "code",
   "execution_count": null,
   "metadata": {},
   "outputs": [],
   "source": []
  },
  {
   "cell_type": "code",
   "execution_count": null,
   "metadata": {},
   "outputs": [],
   "source": []
  },
  {
   "cell_type": "code",
   "execution_count": null,
   "metadata": {},
   "outputs": [],
   "source": []
  }
 ],
 "metadata": {
  "kernelspec": {
   "display_name": "Python 3",
   "language": "python",
   "name": "python3"
  },
  "language_info": {
   "codemirror_mode": {
    "name": "ipython",
    "version": 3
   },
   "file_extension": ".py",
   "mimetype": "text/x-python",
   "name": "python",
   "nbconvert_exporter": "python",
   "pygments_lexer": "ipython3",
   "version": "3.6.5"
  }
 },
 "nbformat": 4,
 "nbformat_minor": 2
}
